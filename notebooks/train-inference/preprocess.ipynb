{
 "cells": [
  {
   "cell_type": "code",
   "execution_count": 1,
   "id": "eae1d0ec-ecbc-4ec8-a987-fbe7ffcbb2c1",
   "metadata": {},
   "outputs": [],
   "source": [
    "import json"
   ]
  },
  {
   "cell_type": "code",
   "execution_count": 2,
   "id": "218933c2-5b95-4b01-8016-cf3eaa0c85c7",
   "metadata": {},
   "outputs": [],
   "source": [
    "import json\n",
    "import codecs\n",
    "\n",
    "val_ls = []\n",
    "with codecs.open('validation.jsonl', 'r', 'utf-8') as f:\n",
    "    for line in f:\n",
    "        data = json.loads(line.strip())\n",
    "        val_ls.append(data)\n"
   ]
  },
  {
   "cell_type": "code",
   "execution_count": 3,
   "id": "1dda963a-9254-468b-bdf2-51c2df83b755",
   "metadata": {},
   "outputs": [],
   "source": [
    "import pandas as pd"
   ]
  },
  {
   "cell_type": "code",
   "execution_count": 4,
   "id": "f67a8bfc-e001-4548-923b-2fc4ed741979",
   "metadata": {},
   "outputs": [
    {
     "data": {
      "text/plain": [
       "['postText',\n",
       " 'postPlatform',\n",
       " 'targetParagraphs',\n",
       " 'targetTitle',\n",
       " 'targetDescription',\n",
       " 'targetKeywords',\n",
       " 'provenance',\n",
       " 'spoiler',\n",
       " 'spoilerPositions',\n",
       " 'tags']"
      ]
     },
     "execution_count": 4,
     "metadata": {},
     "output_type": "execute_result"
    }
   ],
   "source": [
    "['postText', 'postPlatform', 'targetParagraphs',\n",
    "       'targetTitle', 'targetDescription', 'targetKeywords', 'provenance','spoiler', 'spoilerPositions', 'tags']"
   ]
  },
  {
   "cell_type": "code",
   "execution_count": null,
   "id": "aaa44860-57b9-404f-9b01-f71795fe4600",
   "metadata": {},
   "outputs": [],
   "source": []
  },
  {
   "cell_type": "code",
   "execution_count": 5,
   "id": "79cc694b-434f-4d7d-8f2e-4796110a0163",
   "metadata": {},
   "outputs": [],
   "source": [
    "dc = pd.DataFrame(val_ls)[['postText', 'postPlatform', 'targetParagraphs',\n",
    "       'targetTitle', 'targetDescription', 'targetKeywords', 'provenance','spoiler', 'spoilerPositions', 'tags']].T.to_dict()"
   ]
  },
  {
   "cell_type": "code",
   "execution_count": null,
   "id": "a7563a7b-b205-4c7e-9ede-594e1a64f08f",
   "metadata": {},
   "outputs": [],
   "source": []
  },
  {
   "cell_type": "code",
   "execution_count": 34,
   "id": "6e6d245d-6eb4-4fcb-ba15-b2322a976c8b",
   "metadata": {},
   "outputs": [],
   "source": [
    "import json\n",
    "\n",
    "\n",
    "# Save the dictionary to a JSON file\n",
    "with open('validation_changed.json', 'w') as f:\n",
    "    json.dump(dc, f)\n"
   ]
  },
  {
   "cell_type": "code",
   "execution_count": null,
   "id": "85b560f2-50b0-4418-a135-648668a3d806",
   "metadata": {},
   "outputs": [],
   "source": [
    "val_ls = []\n",
    "with codecs.open('train.jsonl', 'r', 'utf-8') as f:\n",
    "    for line in f:\n",
    "        data = json.loads(line.strip())\n",
    "        val_ls.append(data)\n",
    "\n"
   ]
  },
  {
   "cell_type": "code",
   "execution_count": 60,
   "id": "df0f783c-924f-4401-af1e-94c54d104fec",
   "metadata": {},
   "outputs": [],
   "source": [
    "a = ''\n",
    "val_ls = []\n",
    "import ast\n",
    "ct = 0\n",
    "with codecs.open('train.jsonl', 'r', 'utf-8') as f:\n",
    "    for line in f:\n",
    "        try:\n",
    "            data = json.loads(line.strip())\n",
    "            val_ls.append(data)\n",
    "        except:\n",
    "            continue\n",
    "        ct += 1"
   ]
  },
  {
   "cell_type": "code",
   "execution_count": 80,
   "id": "80ba169b-faa6-48a8-9e1c-b00659cbb1e0",
   "metadata": {},
   "outputs": [],
   "source": [
    "df = pd.DataFrame(val_ls)[['postText', 'postPlatform', 'targetParagraphs',\n",
    "       'targetTitle', 'targetDescription', 'targetKeywords', 'provenance','spoiler', 'spoilerPositions', 'tags']]"
   ]
  },
  {
   "cell_type": "code",
   "execution_count": 81,
   "id": "01dd353a-545f-4518-b6bd-a61214cf28a4",
   "metadata": {},
   "outputs": [],
   "source": [
    "df['postText'] = df['postText'].apply('??? '.join)\n",
    "df['targetParagraphs'] = df['targetParagraphs'].apply('??? '.join)"
   ]
  },
  {
   "cell_type": "code",
   "execution_count": 86,
   "id": "1021e743-93a2-4884-8070-8073172b2ced",
   "metadata": {},
   "outputs": [],
   "source": [
    "df['spoiler'] = df['spoiler'].apply(' '.join)"
   ]
  },
  {
   "cell_type": "code",
   "execution_count": 88,
   "id": "fce38a28-cd07-41d9-ad13-1f57f887fdaa",
   "metadata": {},
   "outputs": [],
   "source": [
    "dc = df.T.to_dict()"
   ]
  },
  {
   "cell_type": "code",
   "execution_count": 89,
   "id": "39912995-f35d-442c-85f4-39b1f174137c",
   "metadata": {},
   "outputs": [],
   "source": [
    "with open('train_changed.json', 'w') as f:\n",
    "    for item in dc.values():\n",
    "        new_dict = {key: value for key, value in item.items()}\n",
    "        json.dump(new_dict, f)\n",
    "        f.write('\\n')"
   ]
  },
  {
   "cell_type": "code",
   "execution_count": 87,
   "id": "56537896-fdf7-4c42-8d78-9c0adcb6276e",
   "metadata": {},
   "outputs": [
    {
     "data": {
      "text/plain": [
       "0                                                    2070\n",
       "1                                intellectual stimulation\n",
       "2       Purpose connects us to something bigger and in...\n",
       "3                                        in a rice cooker\n",
       "4       Apple says that if AirPods are lost or stolen,...\n",
       "                              ...                        \n",
       "3192    it hasn’t necessarily taken the wind out of Yo...\n",
       "3193               It read, \"Thanks for keeping us safe.\"\n",
       "3194    1. Anti-wrinkle creams will erase the fine lin...\n",
       "3195                                       @beyoncefan666\n",
       "3196                            Rep. Charlie Dent (R-Pa.)\n",
       "Name: spoiler, Length: 3197, dtype: object"
      ]
     },
     "execution_count": 87,
     "metadata": {},
     "output_type": "execute_result"
    }
   ],
   "source": [
    "df['spoiler']"
   ]
  },
  {
   "cell_type": "code",
   "execution_count": 54,
   "id": "1af1fe99-3138-4897-a408-a3f1b745d507",
   "metadata": {},
   "outputs": [
    {
     "data": {
      "text/plain": [
       "3197"
      ]
     },
     "execution_count": 54,
     "metadata": {},
     "output_type": "execute_result"
    }
   ],
   "source": [
    "len(dc)"
   ]
  },
  {
   "cell_type": "code",
   "execution_count": 55,
   "id": "38851072-db6a-4939-8ff5-ebbdfb5221b2",
   "metadata": {},
   "outputs": [],
   "source": [
    "import json\n",
    "\n",
    "\n",
    "# Save the dictionary to a JSON file\n",
    "with open('train_changed.json', 'w') as f:\n",
    "    json.dump(dc, f)\n"
   ]
  },
  {
   "cell_type": "code",
   "execution_count": 57,
   "id": "48f21e51-6c3f-45ba-b02f-63bfd1044317",
   "metadata": {},
   "outputs": [],
   "source": [
    "with open('train_changed.json', 'w') as f:\n",
    "    for item in dc.values():\n",
    "        new_dict = {key: value for key, value in item.items()}\n",
    "        json.dump(new_dict, f)\n",
    "        f.write('\\n')"
   ]
  },
  {
   "cell_type": "code",
   "execution_count": 6,
   "id": "9fd2e5ec-0976-4ec7-862a-6350b1896dce",
   "metadata": {},
   "outputs": [],
   "source": [
    "#dc"
   ]
  },
  {
   "cell_type": "code",
   "execution_count": null,
   "id": "c81752e0-b081-4c49-856b-1799314fd3ec",
   "metadata": {},
   "outputs": [],
   "source": []
  },
  {
   "cell_type": "code",
   "execution_count": 7,
   "id": "11a23a31-0a17-46df-8105-fc6efec564b5",
   "metadata": {},
   "outputs": [],
   "source": [
    "a = ''\n",
    "val_ls = []\n",
    "import ast\n",
    "ct = 0\n",
    "with codecs.open('validation.jsonl', 'r', 'utf-8') as f:\n",
    "    for line in f:\n",
    "        try:\n",
    "            data = json.loads(line.strip())\n",
    "            val_ls.append(data)\n",
    "        except:\n",
    "            continue\n",
    "        #data = ast.literal_eval(line)\n",
    "        #if ct == 0:\n",
    "            #print(line)\n",
    "            #a = line\n",
    "        ct += 1"
   ]
  },
  {
   "cell_type": "code",
   "execution_count": 8,
   "id": "851fac5b-904b-46aa-9057-59a8c2d7bf97",
   "metadata": {},
   "outputs": [],
   "source": [
    "df = pd.DataFrame(val_ls)[['postText', 'postPlatform', 'targetParagraphs',\n",
    "       'targetTitle', 'targetDescription', 'targetKeywords', 'provenance','spoiler', 'spoilerPositions', 'tags']]"
   ]
  },
  {
   "cell_type": "code",
   "execution_count": 9,
   "id": "6ed2b011-8ec2-4588-83ee-2fed76be80a7",
   "metadata": {},
   "outputs": [],
   "source": [
    "df['postText'] = df['postText'].apply('??? '.join)\n",
    "df['targetParagraphs'] = df['targetParagraphs'].apply('??? '.join)"
   ]
  },
  {
   "cell_type": "code",
   "execution_count": 10,
   "id": "95e4a87b-0b21-46e7-9629-e15620a41bee",
   "metadata": {},
   "outputs": [],
   "source": [
    "df['spoiler'] = df['spoiler'].apply(' '.join)"
   ]
  },
  {
   "cell_type": "code",
   "execution_count": 11,
   "id": "92761be6-4a60-4730-a909-53492696f7e1",
   "metadata": {},
   "outputs": [],
   "source": [
    "dc = df.T.to_dict()"
   ]
  },
  {
   "cell_type": "code",
   "execution_count": 12,
   "id": "3d24308d-5526-4048-bea3-d5c80c4a5c7c",
   "metadata": {},
   "outputs": [],
   "source": [
    "with open('validation_changed.json', 'w') as f:\n",
    "    for item in dc.values():\n",
    "        new_dict = {key: value for key, value in item.items()}\n",
    "        json.dump(new_dict, f)\n",
    "        f.write('\\n')"
   ]
  },
  {
   "cell_type": "code",
   "execution_count": 16,
   "id": "90aaf0c4-8d87-4928-b60c-c58351f0da64",
   "metadata": {},
   "outputs": [
    {
     "data": {
      "text/plain": [
       "'\"intentionally\" could transform a court case against Phoenix-area Sheriff Joe Arpaio from civil charges to a criminal prosecution'"
      ]
     },
     "execution_count": 16,
     "metadata": {},
     "output_type": "execute_result"
    }
   ],
   "source": [
    "df.iloc[1]['spoiler']"
   ]
  },
  {
   "cell_type": "code",
   "execution_count": null,
   "id": "d0b9308e-785c-438e-8753-e28ae39547ff",
   "metadata": {},
   "outputs": [],
   "source": []
  }
 ],
 "metadata": {
  "kernelspec": {
   "display_name": "Python 3 (ipykernel)",
   "language": "python",
   "name": "python3"
  },
  "language_info": {
   "codemirror_mode": {
    "name": "ipython",
    "version": 3
   },
   "file_extension": ".py",
   "mimetype": "text/x-python",
   "name": "python",
   "nbconvert_exporter": "python",
   "pygments_lexer": "ipython3",
   "version": "3.9.8"
  }
 },
 "nbformat": 4,
 "nbformat_minor": 5
}
