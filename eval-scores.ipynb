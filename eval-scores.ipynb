{
  "cells": [
    {
      "cell_type": "code",
      "execution_count": null,
      "id": "c923fcb5-0d4c-4fe8-869f-11dd777fd73f",
      "metadata": {
        "id": "c923fcb5-0d4c-4fe8-869f-11dd777fd73f"
      },
      "outputs": [],
      "source": [
        "import pandas as pd\n",
        "import numpy as np\n",
        "import json"
      ]
    },
    {
      "cell_type": "code",
      "execution_count": null,
      "id": "QHR_3QD1Uyl9",
      "metadata": {
        "colab": {
          "base_uri": "https://localhost:8080/"
        },
        "id": "QHR_3QD1Uyl9",
        "outputId": "92290e3c-8e22-4929-c207-e9979aee0da1"
      },
      "outputs": [
        {
          "name": "stdout",
          "output_type": "stream",
          "text": [
            "Mounted at /content/drive\n"
          ]
        }
      ],
      "source": [
        "from google.colab import drive\n",
        "drive.mount('/content/drive')"
      ]
    },
    {
      "cell_type": "code",
      "execution_count": null,
      "id": "0GJFu-voU3ig",
      "metadata": {
        "colab": {
          "base_uri": "https://localhost:8080/"
        },
        "id": "0GJFu-voU3ig",
        "outputId": "ff5d1365-9289-4852-edc3-2b43478cd893"
      },
      "outputs": [
        {
          "name": "stdout",
          "output_type": "stream",
          "text": [
            "/content/drive/MyDrive/NLP_Project\n"
          ]
        }
      ],
      "source": [
        "%cd drive/MyDrive/NLP_Project"
      ]
    },
    {
      "cell_type": "code",
      "execution_count": null,
      "id": "0fafde5b-ba1e-4f66-9ca3-477a2b8f8379",
      "metadata": {
        "id": "0fafde5b-ba1e-4f66-9ca3-477a2b8f8379"
      },
      "outputs": [],
      "source": [
        "with open('llama_lora_val_3e.txt', 'r', encoding='UTF-8') as f:\n",
        "    alpaca_val = f.readlines()"
      ]
    },
    {
      "cell_type": "code",
      "execution_count": null,
      "id": "IAZnBo6VdnmL",
      "metadata": {
        "id": "IAZnBo6VdnmL"
      },
      "outputs": [],
      "source": [
        "import nltk"
      ]
    },
    {
      "cell_type": "code",
      "execution_count": null,
      "id": "65b53b51-4275-4c2a-934a-7a438dfdbc40",
      "metadata": {
        "colab": {
          "base_uri": "https://localhost:8080/"
        },
        "id": "65b53b51-4275-4c2a-934a-7a438dfdbc40",
        "outputId": "2b30564f-957d-4042-f3da-233716ae95dd"
      },
      "outputs": [
        {
          "name": "stderr",
          "output_type": "stream",
          "text": [
            "[nltk_data] Downloading package punkt to /root/nltk_data...\n",
            "[nltk_data]   Unzipping tokenizers/punkt.zip.\n",
            "[nltk_data] Downloading package stopwords to /root/nltk_data...\n",
            "[nltk_data]   Unzipping corpora/stopwords.zip.\n"
          ]
        },
        {
          "data": {
            "text/plain": [
              "True"
            ]
          },
          "execution_count": 6,
          "metadata": {},
          "output_type": "execute_result"
        }
      ],
      "source": [
        "nltk.download('punkt')\n",
        "nltk.download('stopwords')"
      ]
    },
    {
      "cell_type": "code",
      "execution_count": null,
      "id": "f2b365e3-54c9-44d6-8b42-7db48c25aef2",
      "metadata": {
        "id": "f2b365e3-54c9-44d6-8b42-7db48c25aef2"
      },
      "outputs": [],
      "source": [
        "par = []\n",
        "sp = []\n",
        "abc_par = []\n",
        "\n",
        "for idx, a in enumerate(alpaca_val):\n",
        "    if 'targetParagraphs' in a:\n",
        "        par.append(a)\n",
        "    elif 'Spoiler' in a or 'spoiler' in a:\n",
        "        #print(alpaca_val[idx])\n",
        "        sp.append(alpaca_val[idx + 1])\n",
        "        if 'targetParagraphs' in alpaca_val[idx - 9]:\n",
        "            abc_par.append(alpaca_val[idx - 10])\n",
        "        else:\n",
        "            abc_par.append(alpaca_val[idx - 9])"
      ]
    },
    {
      "cell_type": "code",
      "execution_count": null,
      "id": "1b26e3f2-6b46-441c-968a-229c0c09dc2a",
      "metadata": {
        "id": "1b26e3f2-6b46-441c-968a-229c0c09dc2a"
      },
      "outputs": [],
      "source": [
        "alpaca_dict = dict(zip(abc_par, sp))"
      ]
    },
    {
      "cell_type": "code",
      "execution_count": null,
      "id": "b0b0cbe7-8ce8-4163-8615-5a8b380e58d6",
      "metadata": {
        "id": "b0b0cbe7-8ce8-4163-8615-5a8b380e58d6"
      },
      "outputs": [],
      "source": []
    },
    {
      "cell_type": "code",
      "execution_count": null,
      "id": "bf491f17-9482-44b0-a41c-403ef45bd596",
      "metadata": {
        "id": "bf491f17-9482-44b0-a41c-403ef45bd596"
      },
      "outputs": [],
      "source": [
        "\n",
        "with open(\"gpt-3.5-turbo-eval.json\", 'r', encoding='UTF-8') as f:\n",
        "    gpt_val = json.load(f)"
      ]
    },
    {
      "cell_type": "code",
      "execution_count": null,
      "id": "ec45f2a9-e05f-4b47-803e-99f2914c5b8c",
      "metadata": {
        "id": "ec45f2a9-e05f-4b47-803e-99f2914c5b8c"
      },
      "outputs": [],
      "source": [
        "preds_gpt = []\n",
        "truth_gpt = []\n",
        "\n",
        "for k in gpt_val:\n",
        "    real = gpt_val[k]['real_spoiler']\n",
        "    pred = gpt_val[k]['gpt']['choices'][0]['message']['content']\n",
        "    preds_gpt.append(pred)\n",
        "    truth_gpt.append(real)"
      ]
    },
    {
      "cell_type": "code",
      "execution_count": null,
      "id": "57472cc1-1be4-415e-ba03-f8fb488035a9",
      "metadata": {
        "id": "57472cc1-1be4-415e-ba03-f8fb488035a9"
      },
      "outputs": [],
      "source": []
    },
    {
      "cell_type": "code",
      "execution_count": null,
      "id": "P9iZrFWxX5Su",
      "metadata": {
        "id": "P9iZrFWxX5Su"
      },
      "outputs": [],
      "source": [
        "with open('t5_1e_eval.json', 'r', encoding='UTF-8') as f:\n",
        "    t5_val = json.load(f)"
      ]
    },
    {
      "cell_type": "code",
      "execution_count": null,
      "id": "dbCgSr--YUvh",
      "metadata": {
        "id": "dbCgSr--YUvh"
      },
      "outputs": [],
      "source": []
    },
    {
      "cell_type": "code",
      "execution_count": null,
      "id": "ZngMDYMlX5U4",
      "metadata": {
        "id": "ZngMDYMlX5U4"
      },
      "outputs": [],
      "source": [
        "preds_t5 = []\n",
        "truth_t5 = []\n",
        "\n",
        "for k in t5_val:\n",
        "    #print(truth_t5[k])\n",
        "    real = t5_val[k]['real_spoiler']\n",
        "    pred = t5_val[k]['t5']\n",
        "    preds_t5.append(pred)\n",
        "    truth_t5.append(real)"
      ]
    },
    {
      "cell_type": "code",
      "execution_count": null,
      "id": "UXdzEav7X5W7",
      "metadata": {
        "id": "UXdzEav7X5W7"
      },
      "outputs": [],
      "source": []
    },
    {
      "cell_type": "code",
      "execution_count": null,
      "id": "6d60764b-d26a-40f3-84aa-1e3742d32b38",
      "metadata": {
        "id": "6d60764b-d26a-40f3-84aa-1e3742d32b38"
      },
      "outputs": [],
      "source": [
        "with open('roberta_10_eval_1b.json', 'r', encoding='UTF-8') as f:\n",
        "    roberta_10_eval = json.load(f)\n",
        "\n",
        "with open('roberta_10_eval_4b.json', 'r', encoding='UTF-8') as f:\n",
        "    roberta_4_eval = json.load(f)"
      ]
    },
    {
      "cell_type": "code",
      "execution_count": null,
      "id": "74b0a73d-042f-4c03-83fe-c65fbe5dfae2",
      "metadata": {
        "id": "74b0a73d-042f-4c03-83fe-c65fbe5dfae2"
      },
      "outputs": [],
      "source": [
        "preds_roberta_4 = []\n",
        "truth_roberta_4 = []\n",
        "\n",
        "for k in roberta_4_eval:\n",
        "    real = roberta_4_eval[k]['spoiler']\n",
        "    pred = roberta_4_eval[k]['roberta']\n",
        "    preds_roberta_4.append(pred)\n",
        "    truth_roberta_4.append(real)\n",
        "\n",
        "\n",
        "preds_roberta_10 = []\n",
        "truth_roberta_10 = []\n",
        "\n",
        "for k in roberta_10_eval:\n",
        "    real = roberta_10_eval[k]['spoiler']\n",
        "    pred = roberta_10_eval[k]['roberta']\n",
        "    preds_roberta_10.append(pred)\n",
        "    truth_roberta_10.append(real)"
      ]
    },
    {
      "cell_type": "code",
      "execution_count": null,
      "id": "33118cdc-5e7c-4a0b-83f0-6c3b2b7b4a35",
      "metadata": {
        "id": "33118cdc-5e7c-4a0b-83f0-6c3b2b7b4a35"
      },
      "outputs": [],
      "source": []
    },
    {
      "cell_type": "code",
      "execution_count": null,
      "id": "1f0d085d-4ea2-4c48-aa9f-1c6223e6abdc",
      "metadata": {
        "id": "1f0d085d-4ea2-4c48-aa9f-1c6223e6abdc"
      },
      "outputs": [],
      "source": []
    },
    {
      "cell_type": "code",
      "execution_count": null,
      "id": "2e1a2cac-1f3c-4885-8192-37da48b9fdee",
      "metadata": {
        "id": "2e1a2cac-1f3c-4885-8192-37da48b9fdee"
      },
      "outputs": [],
      "source": [
        "with open('val_2048_10_200.txt', 'r', encoding='UTF-8') as f:\n",
        "    falcon_val = f.readlines()"
      ]
    },
    {
      "cell_type": "code",
      "execution_count": null,
      "id": "2e2d84d4-8699-450a-8ed3-245be11da925",
      "metadata": {
        "id": "2e2d84d4-8699-450a-8ed3-245be11da925"
      },
      "outputs": [],
      "source": [
        "par_falcon = []\n",
        "par_falcon = []\n",
        "sp_falcon = []\n",
        "abc_par_falcon = []\n",
        "\n",
        "for idx, a in enumerate(falcon_val):\n",
        "    if 'targetParagraphs' in a:\n",
        "        par_falcon.append(a)\n",
        "    elif 'Spoiler' in a or 'spoiler' in a:\n",
        "        #print(alpaca_val[idx])\n",
        "        sp_falcon.append(falcon_val[idx])\n",
        "        if 'targetParagraphs' in falcon_val[idx - 9]:\n",
        "            abc_par_falcon.append(falcon_val[idx - 10])\n",
        "        else:\n",
        "            abc_par_falcon.append(falcon_val[idx - 9])"
      ]
    },
    {
      "cell_type": "code",
      "execution_count": null,
      "id": "416381ae-ca48-4a3c-9742-59f975c38a2c",
      "metadata": {
        "id": "416381ae-ca48-4a3c-9742-59f975c38a2c"
      },
      "outputs": [],
      "source": [
        "ct = 0\n",
        "sppp = []\n",
        "cts = []\n",
        "\n",
        "for i in \" \".join(falcon_val).split('$$$'):\n",
        "    if 'postText' in i:\n",
        "        cts.append(ct)\n",
        "        sppp.append(i.split('spoiler:')[1].split('\\n')[0])\n",
        "        ct += 1"
      ]
    },
    {
      "cell_type": "code",
      "execution_count": null,
      "id": "0c690a8d-87da-4346-9171-5c5bdd0daec2",
      "metadata": {
        "id": "0c690a8d-87da-4346-9171-5c5bdd0daec2"
      },
      "outputs": [],
      "source": [
        "falcon_eval = sppp"
      ]
    },
    {
      "cell_type": "code",
      "execution_count": null,
      "id": "8e54f2d2-24f4-4215-a036-c1cc2c96722f",
      "metadata": {
        "id": "8e54f2d2-24f4-4215-a036-c1cc2c96722f"
      },
      "outputs": [],
      "source": []
    },
    {
      "cell_type": "code",
      "execution_count": null,
      "id": "fb207d38-5ed6-4b88-9341-af531d425736",
      "metadata": {
        "id": "fb207d38-5ed6-4b88-9341-af531d425736"
      },
      "outputs": [],
      "source": []
    },
    {
      "cell_type": "code",
      "execution_count": null,
      "id": "8f495844-7156-4ba9-908b-51a1d0be8b94",
      "metadata": {
        "colab": {
          "base_uri": "https://localhost:8080/",
          "height": 52
        },
        "id": "8f495844-7156-4ba9-908b-51a1d0be8b94",
        "outputId": "a523456c-9d2c-4ef8-f668-3a68b48d4484"
      },
      "outputs": [
        {
          "data": {
            "application/vnd.google.colaboratory.intrinsic+json": {
              "type": "string"
            },
            "text/plain": [
              "'def calc_score_from_preds(preds, true_data):\\n    scorelist = []\\n    for idx, spoiler in enumerate(preds):\\n        #print(idx)\\n        truth = true_data[idx]\\n        score = calculate_bleu_score(spoiler, truth)\\n        scorelist.append(score)\\n    return scorelist'"
            ]
          },
          "execution_count": 11,
          "metadata": {},
          "output_type": "execute_result"
        }
      ],
      "source": [
        "import nltk\n",
        "from nltk.translate.bleu_score import sentence_bleu, corpus_bleu\n",
        "#nltk.download('punkt')\n",
        "\n",
        "def calculate_bleu_score(candidate, reference):\n",
        "    candidate_tokens = nltk.word_tokenize(candidate)\n",
        "    reference_tokens = nltk.word_tokenize(reference)\n",
        "\n",
        "    bleu_score = sentence_bleu([reference_tokens], candidate_tokens)\n",
        "\n",
        "    return bleu_score\n",
        "\n",
        "\n",
        "with open('validation_changed.json', 'r') as json_file:\n",
        "    json_list = list(json_file)\n",
        "\n",
        "val_set = []\n",
        "targetParagraphs = []\n",
        "spoilers = []\n",
        "for json_str in json_list:\n",
        "    result = json.loads(json_str)\n",
        "    #val_set.append(result)\n",
        "    targetParagraphs.append(result['targetParagraphs'])\n",
        "    spoilers.append(result['spoiler'])"
      ]
    },
    {
      "cell_type": "code",
      "execution_count": null,
      "id": "VHkgzjbwXyDQ",
      "metadata": {
        "id": "VHkgzjbwXyDQ"
      },
      "outputs": [],
      "source": []
    },
    {
      "cell_type": "code",
      "execution_count": null,
      "id": "f088c1eb-c909-4a13-825e-9a4963701b87",
      "metadata": {
        "colab": {
          "base_uri": "https://localhost:8080/"
        },
        "id": "f088c1eb-c909-4a13-825e-9a4963701b87",
        "outputId": "da5a89ef-124c-4afe-f916-f0d0b95ee6b7"
      },
      "outputs": [
        {
          "name": "stdout",
          "output_type": "stream",
          "text": [
            "Looking in indexes: https://pypi.org/simple, https://us-python.pkg.dev/colab-wheels/public/simple/\n",
            "Collecting bert-score\n",
            "  Downloading bert_score-0.3.13-py3-none-any.whl (61 kB)\n",
            "\u001b[?25l     \u001b[90m━━━━━━━━━━━━━━━━━━━━━━━━━━━━━━━━━━━━━━━━\u001b[0m \u001b[32m0.0/61.1 kB\u001b[0m \u001b[31m?\u001b[0m eta \u001b[36m-:--:--\u001b[0m\r\u001b[2K     \u001b[90m━━━━━━━━━━━━━━━━━━━━━━━━━━━━━━━━━━━━━━━━\u001b[0m \u001b[32m61.1/61.1 kB\u001b[0m \u001b[31m8.6 MB/s\u001b[0m eta \u001b[36m0:00:00\u001b[0m\n",
            "\u001b[?25hRequirement already satisfied: torch>=1.0.0 in /usr/local/lib/python3.10/dist-packages (from bert-score) (2.0.1+cu118)\n",
            "Requirement already satisfied: pandas>=1.0.1 in /usr/local/lib/python3.10/dist-packages (from bert-score) (1.5.3)\n",
            "Collecting transformers>=3.0.0 (from bert-score)\n",
            "  Downloading transformers-4.30.2-py3-none-any.whl (7.2 MB)\n",
            "\u001b[2K     \u001b[90m━━━━━━━━━━━━━━━━━━━━━━━━━━━━━━━━━━━━━━━━\u001b[0m \u001b[32m7.2/7.2 MB\u001b[0m \u001b[31m109.8 MB/s\u001b[0m eta \u001b[36m0:00:00\u001b[0m\n",
            "\u001b[?25hRequirement already satisfied: numpy in /usr/local/lib/python3.10/dist-packages (from bert-score) (1.22.4)\n",
            "Requirement already satisfied: requests in /usr/local/lib/python3.10/dist-packages (from bert-score) (2.27.1)\n",
            "Requirement already satisfied: tqdm>=4.31.1 in /usr/local/lib/python3.10/dist-packages (from bert-score) (4.65.0)\n",
            "Requirement already satisfied: matplotlib in /usr/local/lib/python3.10/dist-packages (from bert-score) (3.7.1)\n",
            "Requirement already satisfied: packaging>=20.9 in /usr/local/lib/python3.10/dist-packages (from bert-score) (23.1)\n",
            "Requirement already satisfied: python-dateutil>=2.8.1 in /usr/local/lib/python3.10/dist-packages (from pandas>=1.0.1->bert-score) (2.8.2)\n",
            "Requirement already satisfied: pytz>=2020.1 in /usr/local/lib/python3.10/dist-packages (from pandas>=1.0.1->bert-score) (2022.7.1)\n",
            "Requirement already satisfied: filelock in /usr/local/lib/python3.10/dist-packages (from torch>=1.0.0->bert-score) (3.12.0)\n",
            "Requirement already satisfied: typing-extensions in /usr/local/lib/python3.10/dist-packages (from torch>=1.0.0->bert-score) (4.5.0)\n",
            "Requirement already satisfied: sympy in /usr/local/lib/python3.10/dist-packages (from torch>=1.0.0->bert-score) (1.11.1)\n",
            "Requirement already satisfied: networkx in /usr/local/lib/python3.10/dist-packages (from torch>=1.0.0->bert-score) (3.1)\n",
            "Requirement already satisfied: jinja2 in /usr/local/lib/python3.10/dist-packages (from torch>=1.0.0->bert-score) (3.1.2)\n",
            "Requirement already satisfied: triton==2.0.0 in /usr/local/lib/python3.10/dist-packages (from torch>=1.0.0->bert-score) (2.0.0)\n",
            "Requirement already satisfied: cmake in /usr/local/lib/python3.10/dist-packages (from triton==2.0.0->torch>=1.0.0->bert-score) (3.25.2)\n",
            "Requirement already satisfied: lit in /usr/local/lib/python3.10/dist-packages (from triton==2.0.0->torch>=1.0.0->bert-score) (16.0.5)\n",
            "Collecting huggingface-hub<1.0,>=0.14.1 (from transformers>=3.0.0->bert-score)\n",
            "  Downloading huggingface_hub-0.15.1-py3-none-any.whl (236 kB)\n",
            "\u001b[2K     \u001b[90m━━━━━━━━━━━━━━━━━━━━━━━━━━━━━━━━━━━━━━\u001b[0m \u001b[32m236.8/236.8 kB\u001b[0m \u001b[31m30.4 MB/s\u001b[0m eta \u001b[36m0:00:00\u001b[0m\n",
            "\u001b[?25hRequirement already satisfied: pyyaml>=5.1 in /usr/local/lib/python3.10/dist-packages (from transformers>=3.0.0->bert-score) (6.0)\n",
            "Requirement already satisfied: regex!=2019.12.17 in /usr/local/lib/python3.10/dist-packages (from transformers>=3.0.0->bert-score) (2022.10.31)\n",
            "Collecting tokenizers!=0.11.3,<0.14,>=0.11.1 (from transformers>=3.0.0->bert-score)\n",
            "  Downloading tokenizers-0.13.3-cp310-cp310-manylinux_2_17_x86_64.manylinux2014_x86_64.whl (7.8 MB)\n",
            "\u001b[2K     \u001b[90m━━━━━━━━━━━━━━━━━━━━━━━━━━━━━━━━━━━━━━━━\u001b[0m \u001b[32m7.8/7.8 MB\u001b[0m \u001b[31m129.5 MB/s\u001b[0m eta \u001b[36m0:00:00\u001b[0m\n",
            "\u001b[?25hCollecting safetensors>=0.3.1 (from transformers>=3.0.0->bert-score)\n",
            "  Downloading safetensors-0.3.1-cp310-cp310-manylinux_2_17_x86_64.manylinux2014_x86_64.whl (1.3 MB)\n",
            "\u001b[2K     \u001b[90m━━━━━━━━━━━━━━━━━━━━━━━━━━━━━━━━━━━━━━━━\u001b[0m \u001b[32m1.3/1.3 MB\u001b[0m \u001b[31m28.9 MB/s\u001b[0m eta \u001b[36m0:00:00\u001b[0m\n",
            "\u001b[?25hRequirement already satisfied: contourpy>=1.0.1 in /usr/local/lib/python3.10/dist-packages (from matplotlib->bert-score) (1.0.7)\n",
            "Requirement already satisfied: cycler>=0.10 in /usr/local/lib/python3.10/dist-packages (from matplotlib->bert-score) (0.11.0)\n",
            "Requirement already satisfied: fonttools>=4.22.0 in /usr/local/lib/python3.10/dist-packages (from matplotlib->bert-score) (4.39.3)\n",
            "Requirement already satisfied: kiwisolver>=1.0.1 in /usr/local/lib/python3.10/dist-packages (from matplotlib->bert-score) (1.4.4)\n",
            "Requirement already satisfied: pillow>=6.2.0 in /usr/local/lib/python3.10/dist-packages (from matplotlib->bert-score) (8.4.0)\n",
            "Requirement already satisfied: pyparsing>=2.3.1 in /usr/local/lib/python3.10/dist-packages (from matplotlib->bert-score) (3.0.9)\n",
            "Requirement already satisfied: urllib3<1.27,>=1.21.1 in /usr/local/lib/python3.10/dist-packages (from requests->bert-score) (1.26.15)\n",
            "Requirement already satisfied: certifi>=2017.4.17 in /usr/local/lib/python3.10/dist-packages (from requests->bert-score) (2022.12.7)\n",
            "Requirement already satisfied: charset-normalizer~=2.0.0 in /usr/local/lib/python3.10/dist-packages (from requests->bert-score) (2.0.12)\n",
            "Requirement already satisfied: idna<4,>=2.5 in /usr/local/lib/python3.10/dist-packages (from requests->bert-score) (3.4)\n",
            "Requirement already satisfied: fsspec in /usr/local/lib/python3.10/dist-packages (from huggingface-hub<1.0,>=0.14.1->transformers>=3.0.0->bert-score) (2023.4.0)\n",
            "Requirement already satisfied: six>=1.5 in /usr/local/lib/python3.10/dist-packages (from python-dateutil>=2.8.1->pandas>=1.0.1->bert-score) (1.16.0)\n",
            "Requirement already satisfied: MarkupSafe>=2.0 in /usr/local/lib/python3.10/dist-packages (from jinja2->torch>=1.0.0->bert-score) (2.1.2)\n",
            "Requirement already satisfied: mpmath>=0.19 in /usr/local/lib/python3.10/dist-packages (from sympy->torch>=1.0.0->bert-score) (1.3.0)\n",
            "Installing collected packages: tokenizers, safetensors, huggingface-hub, transformers, bert-score\n",
            "Successfully installed bert-score-0.3.13 huggingface-hub-0.15.1 safetensors-0.3.1 tokenizers-0.13.3 transformers-4.30.2\n"
          ]
        }
      ],
      "source": [
        "pip install bert-score"
      ]
    },
    {
      "cell_type": "code",
      "execution_count": null,
      "id": "92879d09-ecf0-457f-8044-9692739d1674",
      "metadata": {
        "id": "92879d09-ecf0-457f-8044-9692739d1674"
      },
      "outputs": [],
      "source": [
        "from nltk.translate.bleu_score import sentence_bleu\n",
        "from nltk.tokenize import word_tokenize\n",
        "import string\n",
        "from sklearn.metrics import balanced_accuracy_score, precision_score, recall_score, f1_score\n",
        "import json\n",
        "from nltk.translate.bleu_score import sentence_bleu\n",
        "from nltk.tokenize import word_tokenize\n",
        "from nltk.corpus import stopwords\n",
        "import string\n",
        "from bert_score import score"
      ]
    },
    {
      "cell_type": "code",
      "execution_count": null,
      "id": "456faf34-6187-4adb-8285-d3b8183a288a",
      "metadata": {
        "id": "456faf34-6187-4adb-8285-d3b8183a288a"
      },
      "outputs": [],
      "source": []
    },
    {
      "cell_type": "code",
      "execution_count": null,
      "id": "0a35e580-9e64-421b-90bb-6594f2301871",
      "metadata": {
        "id": "0a35e580-9e64-421b-90bb-6594f2301871"
      },
      "outputs": [],
      "source": [
        "def bleu_score(truth, prediction):\n",
        "\n",
        "    def stopfilter(tokens):\n",
        "        tmp = [token for token in tokens if token not in stopwords.words('english')]\n",
        "        res = [token.lower() for token in tmp if token not in string.punctuation]\n",
        "        return res\n",
        "\n",
        "    def make_score(trut, predi):\n",
        "        if len(trut) > 3 and len(predi) > 3:\n",
        "            weights = (1./4., 1./4., 1./4., 1./4.)\n",
        "        elif len(trut) > 2 and len(predi) > 2:\n",
        "            weights = (1./3., 1./3., 1./3.)\n",
        "        elif len(trut) > 1 and len(predi) > 1:\n",
        "            weights = (1./2., 1./2.)\n",
        "        else:\n",
        "            weights = (1., 0.)\n",
        "\n",
        "        if (len(weights) == 4) and (len(trut) < 4 or len(predi) < 4):\n",
        "            print(trut)\n",
        "            print(predi)\n",
        "            print(weights)\n",
        "            print('\\n')\n",
        "\n",
        "        return sentence_bleu([trut], predi, weights=weights)\n",
        "\n",
        "    score = 0.\n",
        "    lem_score = 0.\n",
        "\n",
        "    write_dict = {'single_scores': {}, 'scores': {}}\n",
        "\n",
        "    for i in range(len(prediction)):\n",
        "        real_answer = truth[i]\n",
        "        if type(real_answer) is list:\n",
        "            real_answer = ' '.join(real_answer)\n",
        "\n",
        "        pred_answer = prediction[i]\n",
        "        if type(pred_answer) is list:\n",
        "            pred_answer = ' '.join(pred_answer)\n",
        "\n",
        "        lem_truth_tokens = stopfilter(word_tokenize(real_answer.replace('\\n', '')))\n",
        "        lem_prediction_tokens = stopfilter(word_tokenize(pred_answer.replace('\\n', '')))\n",
        "        i_lem_score = make_score(lem_truth_tokens, lem_prediction_tokens)\n",
        "        lem_score += i_lem_score\n",
        "\n",
        "    return lem_score / len(truth)\n",
        "\n",
        "\n",
        "def bert_score(truth, prediction):\n",
        "    assert len(truth) == len(prediction)\n",
        "    prec, rec, f1 = score(prediction, truth, lang=\"en\")\n",
        "\n",
        "    return float(f1.mean())"
      ]
    },
    {
      "cell_type": "code",
      "execution_count": null,
      "id": "9ffe53e2-5912-43e6-a679-d361c3788a6c",
      "metadata": {
        "id": "9ffe53e2-5912-43e6-a679-d361c3788a6c"
      },
      "outputs": [],
      "source": [
        "def calc_score_from_preds(preds, true_data):\n",
        "    bleu_scorelist = []\n",
        "    bert_scorelist = bert_score(true_data, preds)\n",
        "    for idx, y_pred in enumerate(preds):\n",
        "        y_true = true_data[idx]\n",
        "\n",
        "        bleu_sc = bleu_score([y_true], [y_pred])\n",
        "\n",
        "        bleu_scorelist.append(bleu_sc)\n",
        "\n",
        "    return np.mean(bleu_scorelist), bert_scorelist"
      ]
    },
    {
      "cell_type": "code",
      "execution_count": null,
      "id": "2phEvGERXOJx",
      "metadata": {
        "id": "2phEvGERXOJx"
      },
      "outputs": [],
      "source": [
        "import warnings\n",
        "warnings.filterwarnings(\"ignore\")"
      ]
    },
    {
      "cell_type": "code",
      "execution_count": null,
      "id": "e1eb93ab-9167-4f47-8bef-55c374f5739e",
      "metadata": {
        "id": "e1eb93ab-9167-4f47-8bef-55c374f5739e"
      },
      "outputs": [],
      "source": [
        "scores_alpaca = calc_score_from_preds(sp, spoilers)"
      ]
    },
    {
      "cell_type": "code",
      "execution_count": null,
      "id": "VjpvRbdVVlpa",
      "metadata": {
        "colab": {
          "base_uri": "https://localhost:8080/"
        },
        "id": "VjpvRbdVVlpa",
        "outputId": "397208e9-4c4c-4074-8157-87fa2fd549f4"
      },
      "outputs": [
        {
          "name": "stderr",
          "output_type": "stream",
          "text": [
            "Some weights of the model checkpoint at roberta-large were not used when initializing RobertaModel: ['lm_head.bias', 'lm_head.layer_norm.weight', 'lm_head.layer_norm.bias', 'lm_head.dense.bias', 'lm_head.dense.weight']\n",
            "- This IS expected if you are initializing RobertaModel from the checkpoint of a model trained on another task or with another architecture (e.g. initializing a BertForSequenceClassification model from a BertForPreTraining model).\n",
            "- This IS NOT expected if you are initializing RobertaModel from the checkpoint of a model that you expect to be exactly identical (initializing a BertForSequenceClassification model from a BertForSequenceClassification model).\n",
            "Some weights of RobertaModel were not initialized from the model checkpoint at roberta-large and are newly initialized: ['roberta.pooler.dense.bias', 'roberta.pooler.dense.weight']\n",
            "You should probably TRAIN this model on a down-stream task to be able to use it for predictions and inference.\n"
          ]
        }
      ],
      "source": [
        "scores_roberta_4 = calc_score_from_preds(preds_roberta_4 , truth_roberta_4)\n"
      ]
    },
    {
      "cell_type": "code",
      "execution_count": null,
      "id": "e7nL0_0TlUFn",
      "metadata": {
        "colab": {
          "base_uri": "https://localhost:8080/"
        },
        "id": "e7nL0_0TlUFn",
        "outputId": "cc204594-75c8-495f-b6ed-cc01f5df740b"
      },
      "outputs": [
        {
          "data": {
            "text/plain": [
              "(2.941103940016657e-157, 0.7927424907684326)"
            ]
          },
          "execution_count": 43,
          "metadata": {},
          "output_type": "execute_result"
        }
      ],
      "source": [
        "scores_roberta_4"
      ]
    },
    {
      "cell_type": "code",
      "execution_count": null,
      "id": "D2mPlArNY-aa",
      "metadata": {
        "colab": {
          "base_uri": "https://localhost:8080/"
        },
        "id": "D2mPlArNY-aa",
        "outputId": "e482a301-ff75-4404-8a30-2bfd75e84a49"
      },
      "outputs": [
        {
          "name": "stderr",
          "output_type": "stream",
          "text": [
            "Some weights of the model checkpoint at roberta-large were not used when initializing RobertaModel: ['lm_head.bias', 'lm_head.layer_norm.weight', 'lm_head.layer_norm.bias', 'lm_head.dense.bias', 'lm_head.dense.weight']\n",
            "- This IS expected if you are initializing RobertaModel from the checkpoint of a model trained on another task or with another architecture (e.g. initializing a BertForSequenceClassification model from a BertForPreTraining model).\n",
            "- This IS NOT expected if you are initializing RobertaModel from the checkpoint of a model that you expect to be exactly identical (initializing a BertForSequenceClassification model from a BertForSequenceClassification model).\n",
            "Some weights of RobertaModel were not initialized from the model checkpoint at roberta-large and are newly initialized: ['roberta.pooler.dense.bias', 'roberta.pooler.dense.weight']\n",
            "You should probably TRAIN this model on a down-stream task to be able to use it for predictions and inference.\n"
          ]
        }
      ],
      "source": [
        "\n",
        "scores_roberta_10 = calc_score_from_preds(preds_roberta_10 , truth_roberta_10)\n"
      ]
    },
    {
      "cell_type": "code",
      "execution_count": null,
      "id": "99XCmyI7tn4s",
      "metadata": {
        "id": "99XCmyI7tn4s"
      },
      "outputs": [],
      "source": []
    },
    {
      "cell_type": "code",
      "execution_count": null,
      "id": "rKPAMpjKlV2l",
      "metadata": {
        "colab": {
          "base_uri": "https://localhost:8080/"
        },
        "id": "rKPAMpjKlV2l",
        "outputId": "ff6860ab-b913-4393-d7d4-4b0ac6dc8398"
      },
      "outputs": [
        {
          "data": {
            "text/plain": [
              "(2.941103940016657e-157, 0.7928134202957153)"
            ]
          },
          "execution_count": 42,
          "metadata": {},
          "output_type": "execute_result"
        }
      ],
      "source": [
        "scores_roberta_10"
      ]
    },
    {
      "cell_type": "code",
      "execution_count": null,
      "id": "l6rad7X2Y-rS",
      "metadata": {
        "colab": {
          "base_uri": "https://localhost:8080/"
        },
        "id": "l6rad7X2Y-rS",
        "outputId": "ebfa6303-f467-4384-95b1-20eb0b00ccb2"
      },
      "outputs": [
        {
          "name": "stderr",
          "output_type": "stream",
          "text": [
            "Some weights of the model checkpoint at roberta-large were not used when initializing RobertaModel: ['lm_head.bias', 'lm_head.layer_norm.weight', 'lm_head.layer_norm.bias', 'lm_head.dense.bias', 'lm_head.dense.weight']\n",
            "- This IS expected if you are initializing RobertaModel from the checkpoint of a model trained on another task or with another architecture (e.g. initializing a BertForSequenceClassification model from a BertForPreTraining model).\n",
            "- This IS NOT expected if you are initializing RobertaModel from the checkpoint of a model that you expect to be exactly identical (initializing a BertForSequenceClassification model from a BertForSequenceClassification model).\n",
            "Some weights of RobertaModel were not initialized from the model checkpoint at roberta-large and are newly initialized: ['roberta.pooler.dense.bias', 'roberta.pooler.dense.weight']\n",
            "You should probably TRAIN this model on a down-stream task to be able to use it for predictions and inference.\n",
            "Warning: Empty candidate sentence detected; setting raw BERTscores to 0.\n",
            "Warning: Empty candidate sentence detected; setting raw BERTscores to 0.\n",
            "Warning: Empty candidate sentence detected; setting raw BERTscores to 0.\n"
          ]
        }
      ],
      "source": [
        "scores_falcon = calc_score_from_preds(falcon_eval , spoilers[:len(falcon_eval)])"
      ]
    },
    {
      "cell_type": "code",
      "execution_count": null,
      "id": "11djYzE1lZlF",
      "metadata": {
        "colab": {
          "base_uri": "https://localhost:8080/"
        },
        "id": "11djYzE1lZlF",
        "outputId": "738b6fbe-5d13-43cb-dead-ec5083ec5cda"
      },
      "outputs": [
        {
          "data": {
            "text/plain": [
              "(0.011897712891263328, 0.7621487379074097)"
            ]
          },
          "execution_count": 46,
          "metadata": {},
          "output_type": "execute_result"
        }
      ],
      "source": [
        "scores_falcon"
      ]
    },
    {
      "cell_type": "code",
      "execution_count": null,
      "id": "7gGtKCHxjkJF",
      "metadata": {
        "id": "7gGtKCHxjkJF"
      },
      "outputs": [],
      "source": []
    },
    {
      "cell_type": "code",
      "execution_count": null,
      "id": "OT5D_IvNY-uC",
      "metadata": {
        "id": "OT5D_IvNY-uC"
      },
      "outputs": [],
      "source": [
        "scores_t5 = calc_score_from_preds(preds_t5 , truth_t5)\n"
      ]
    },
    {
      "cell_type": "code",
      "execution_count": null,
      "id": "MztHlEtrZAlL",
      "metadata": {
        "id": "MztHlEtrZAlL"
      },
      "outputs": [],
      "source": [
        "scores_gpt = calc_score_from_preds(preds_gpt, truth_gpt)"
      ]
    },
    {
      "cell_type": "code",
      "execution_count": null,
      "id": "yn4LqsvWZDDQ",
      "metadata": {
        "id": "yn4LqsvWZDDQ"
      },
      "outputs": [],
      "source": [
        "scores_alpaca"
      ]
    },
    {
      "cell_type": "code",
      "execution_count": null,
      "id": "sLv9KXqJZDFg",
      "metadata": {
        "id": "sLv9KXqJZDFg"
      },
      "outputs": [],
      "source": [
        "scores_roberta_4"
      ]
    },
    {
      "cell_type": "code",
      "execution_count": null,
      "id": "796OwONBZGSf",
      "metadata": {
        "id": "796OwONBZGSf"
      },
      "outputs": [],
      "source": [
        "scores_roberta_10"
      ]
    },
    {
      "cell_type": "code",
      "execution_count": null,
      "id": "IbCHiu26ZGU2",
      "metadata": {
        "id": "IbCHiu26ZGU2"
      },
      "outputs": [],
      "source": [
        "scores_falcon"
      ]
    },
    {
      "cell_type": "code",
      "execution_count": null,
      "id": "d6JRT_SpZGXP",
      "metadata": {
        "colab": {
          "base_uri": "https://localhost:8080/"
        },
        "id": "d6JRT_SpZGXP",
        "outputId": "b8942862-a65a-4c35-a83f-9ab898d8ddfe"
      },
      "outputs": [
        {
          "data": {
            "text/plain": [
              "0.19242533309076365"
            ]
          },
          "execution_count": 25,
          "metadata": {},
          "output_type": "execute_result"
        }
      ],
      "source": [
        "np.mean(scores_t5[0])"
      ]
    },
    {
      "cell_type": "code",
      "execution_count": null,
      "id": "xQiVVe6OkPUT",
      "metadata": {
        "id": "xQiVVe6OkPUT"
      },
      "outputs": [],
      "source": []
    },
    {
      "cell_type": "code",
      "execution_count": null,
      "id": "3pxyxQMQkPQF",
      "metadata": {
        "colab": {
          "base_uri": "https://localhost:8080/"
        },
        "id": "3pxyxQMQkPQF",
        "outputId": "c0b49532-924e-4d32-ab9f-d63f522e45fb"
      },
      "outputs": [
        {
          "name": "stderr",
          "output_type": "stream",
          "text": [
            "Some weights of the model checkpoint at roberta-large were not used when initializing RobertaModel: ['lm_head.bias', 'lm_head.layer_norm.weight', 'lm_head.layer_norm.bias', 'lm_head.dense.bias', 'lm_head.dense.weight']\n",
            "- This IS expected if you are initializing RobertaModel from the checkpoint of a model trained on another task or with another architecture (e.g. initializing a BertForSequenceClassification model from a BertForPreTraining model).\n",
            "- This IS NOT expected if you are initializing RobertaModel from the checkpoint of a model that you expect to be exactly identical (initializing a BertForSequenceClassification model from a BertForSequenceClassification model).\n",
            "Some weights of RobertaModel were not initialized from the model checkpoint at roberta-large and are newly initialized: ['roberta.pooler.dense.bias', 'roberta.pooler.dense.weight']\n",
            "You should probably TRAIN this model on a down-stream task to be able to use it for predictions and inference.\n"
          ]
        }
      ],
      "source": [
        "bert_sc = bert_score(truth_t5, preds_t5)"
      ]
    },
    {
      "cell_type": "code",
      "execution_count": null,
      "id": "W9-LnmnNkPL4",
      "metadata": {
        "colab": {
          "base_uri": "https://localhost:8080/"
        },
        "id": "W9-LnmnNkPL4",
        "outputId": "658ddd46-047d-4489-ba1a-815fa2d1fc98"
      },
      "outputs": [
        {
          "data": {
            "text/plain": [
              "0.8644362092018127"
            ]
          },
          "execution_count": 29,
          "metadata": {},
          "output_type": "execute_result"
        }
      ],
      "source": [
        "bert_sc"
      ]
    },
    {
      "cell_type": "code",
      "execution_count": null,
      "id": "5iY9IIfikPHA",
      "metadata": {
        "id": "5iY9IIfikPHA"
      },
      "outputs": [],
      "source": []
    },
    {
      "cell_type": "code",
      "execution_count": null,
      "id": "WpiL83xAZDJo",
      "metadata": {
        "id": "WpiL83xAZDJo"
      },
      "outputs": [],
      "source": [
        "scores_gpt"
      ]
    },
    {
      "cell_type": "code",
      "execution_count": null,
      "id": "Iq1EYrAWkBiz",
      "metadata": {
        "colab": {
          "base_uri": "https://localhost:8080/"
        },
        "id": "Iq1EYrAWkBiz",
        "outputId": "62a38792-4c9c-4b65-b245-d45cb74a8687"
      },
      "outputs": [
        {
          "data": {
            "text/plain": [
              "0.14789007026858195"
            ]
          },
          "execution_count": 27,
          "metadata": {},
          "output_type": "execute_result"
        }
      ],
      "source": [
        "np.mean(scores_gpt[0])"
      ]
    },
    {
      "cell_type": "code",
      "execution_count": null,
      "id": "G8zSgH8PkYwv",
      "metadata": {
        "colab": {
          "base_uri": "https://localhost:8080/"
        },
        "id": "G8zSgH8PkYwv",
        "outputId": "c05034b3-f4f7-453b-cb36-382d78bf5ed7"
      },
      "outputs": [
        {
          "name": "stderr",
          "output_type": "stream",
          "text": [
            "Some weights of the model checkpoint at roberta-large were not used when initializing RobertaModel: ['lm_head.bias', 'lm_head.layer_norm.weight', 'lm_head.layer_norm.bias', 'lm_head.dense.bias', 'lm_head.dense.weight']\n",
            "- This IS expected if you are initializing RobertaModel from the checkpoint of a model trained on another task or with another architecture (e.g. initializing a BertForSequenceClassification model from a BertForPreTraining model).\n",
            "- This IS NOT expected if you are initializing RobertaModel from the checkpoint of a model that you expect to be exactly identical (initializing a BertForSequenceClassification model from a BertForSequenceClassification model).\n",
            "Some weights of RobertaModel were not initialized from the model checkpoint at roberta-large and are newly initialized: ['roberta.pooler.dense.bias', 'roberta.pooler.dense.weight']\n",
            "You should probably TRAIN this model on a down-stream task to be able to use it for predictions and inference.\n"
          ]
        }
      ],
      "source": [
        "bert_sc_gpt = bert_score(truth_gpt, preds_gpt)"
      ]
    },
    {
      "cell_type": "code",
      "execution_count": null,
      "id": "oGR76H6qkkR0",
      "metadata": {
        "colab": {
          "base_uri": "https://localhost:8080/"
        },
        "id": "oGR76H6qkkR0",
        "outputId": "72fb8203-7e50-4560-a98a-fad325d82bc9"
      },
      "outputs": [
        {
          "data": {
            "text/plain": [
              "0.8666253089904785"
            ]
          },
          "execution_count": 31,
          "metadata": {},
          "output_type": "execute_result"
        }
      ],
      "source": [
        "bert_sc_gpt"
      ]
    },
    {
      "cell_type": "code",
      "execution_count": null,
      "id": "-hJ2xWtGrHfl",
      "metadata": {
        "id": "-hJ2xWtGrHfl"
      },
      "outputs": [],
      "source": []
    },
    {
      "cell_type": "code",
      "execution_count": null,
      "id": "vN4k9jksrHbQ",
      "metadata": {
        "id": "vN4k9jksrHbQ"
      },
      "outputs": [],
      "source": [
        "import pickle\n",
        "\n",
        "with open('my_list.pkl', 'rb') as f:\n",
        "    data = pickle.load(f)"
      ]
    },
    {
      "cell_type": "code",
      "execution_count": null,
      "id": "Gjl3FOM1rHVz",
      "metadata": {
        "id": "Gjl3FOM1rHVz"
      },
      "outputs": [],
      "source": [
        "t = []\n",
        "p = []\n",
        "for d in data:\n",
        "  p.append(d[0])\n",
        "  t.append(d[1])"
      ]
    },
    {
      "cell_type": "code",
      "execution_count": null,
      "id": "M8oyAs3_rc6l",
      "metadata": {
        "colab": {
          "base_uri": "https://localhost:8080/"
        },
        "id": "M8oyAs3_rc6l",
        "outputId": "9f7f11e8-113a-4b79-da58-90795ae9ca63"
      },
      "outputs": [
        {
          "name": "stderr",
          "output_type": "stream",
          "text": [
            "Some weights of the model checkpoint at roberta-large were not used when initializing RobertaModel: ['lm_head.bias', 'lm_head.layer_norm.weight', 'lm_head.layer_norm.bias', 'lm_head.dense.bias', 'lm_head.dense.weight']\n",
            "- This IS expected if you are initializing RobertaModel from the checkpoint of a model trained on another task or with another architecture (e.g. initializing a BertForSequenceClassification model from a BertForPreTraining model).\n",
            "- This IS NOT expected if you are initializing RobertaModel from the checkpoint of a model that you expect to be exactly identical (initializing a BertForSequenceClassification model from a BertForSequenceClassification model).\n",
            "Some weights of RobertaModel were not initialized from the model checkpoint at roberta-large and are newly initialized: ['roberta.pooler.dense.bias', 'roberta.pooler.dense.weight']\n",
            "You should probably TRAIN this model on a down-stream task to be able to use it for predictions and inference.\n",
            "Warning: Empty candidate sentence detected; setting raw BERTscores to 0.\n",
            "Warning: Empty candidate sentence detected; setting raw BERTscores to 0.\n",
            "Warning: Empty candidate sentence detected; setting raw BERTscores to 0.\n",
            "Warning: Empty candidate sentence detected; setting raw BERTscores to 0.\n",
            "Warning: Empty candidate sentence detected; setting raw BERTscores to 0.\n",
            "Warning: Empty candidate sentence detected; setting raw BERTscores to 0.\n",
            "Warning: Empty candidate sentence detected; setting raw BERTscores to 0.\n",
            "Warning: Empty candidate sentence detected; setting raw BERTscores to 0.\n",
            "Warning: Empty candidate sentence detected; setting raw BERTscores to 0.\n"
          ]
        },
        {
          "data": {
            "text/plain": [
              "(0.01835092686884588, 0.7890071868896484)"
            ]
          },
          "execution_count": 50,
          "metadata": {},
          "output_type": "execute_result"
        }
      ],
      "source": [
        "calc_score_from_preds(p, t)"
      ]
    }
  ],
  "metadata": {
    "accelerator": "GPU",
    "colab": {
      "gpuType": "T4",
      "provenance": []
    },
    "kernelspec": {
      "display_name": "Python 3",
      "name": "python3"
    },
    "language_info": {
      "codemirror_mode": {
        "name": "ipython",
        "version": 3
      },
      "file_extension": ".py",
      "mimetype": "text/x-python",
      "name": "python",
      "nbconvert_exporter": "python",
      "pygments_lexer": "ipython3",
      "version": "3.9.8"
    },
    "widgets": {
      "application/vnd.jupyter.widget-state+json": {
        "0e42cda5b0764e8eb7f18b23792ec5a7": {
          "model_module": "@jupyter-widgets/controls",
          "model_module_version": "1.5.0",
          "model_name": "HTMLModel",
          "state": {
            "_dom_classes": [],
            "_model_module": "@jupyter-widgets/controls",
            "_model_module_version": "1.5.0",
            "_model_name": "HTMLModel",
            "_view_count": null,
            "_view_module": "@jupyter-widgets/controls",
            "_view_module_version": "1.5.0",
            "_view_name": "HTMLView",
            "description": "",
            "description_tooltip": null,
            "layout": "IPY_MODEL_37e77f89000740e7b2178d27fa1c60a5",
            "placeholder": "​",
            "style": "IPY_MODEL_139c900797754586a5a7e50945005536",
            "value": "Downloading (…)lve/main/config.json: 100%"
          }
        },
        "115fa217ef91400aab011bc8735f708d": {
          "model_module": "@jupyter-widgets/controls",
          "model_module_version": "1.5.0",
          "model_name": "FloatProgressModel",
          "state": {
            "_dom_classes": [],
            "_model_module": "@jupyter-widgets/controls",
            "_model_module_version": "1.5.0",
            "_model_name": "FloatProgressModel",
            "_view_count": null,
            "_view_module": "@jupyter-widgets/controls",
            "_view_module_version": "1.5.0",
            "_view_name": "ProgressView",
            "bar_style": "success",
            "description": "",
            "description_tooltip": null,
            "layout": "IPY_MODEL_2e0b27d568c44b8085b0727c389ca405",
            "max": 456318,
            "min": 0,
            "orientation": "horizontal",
            "style": "IPY_MODEL_ab63f415fa9f4385bb35b6f55896911f",
            "value": 456318
          }
        },
        "139c900797754586a5a7e50945005536": {
          "model_module": "@jupyter-widgets/controls",
          "model_module_version": "1.5.0",
          "model_name": "DescriptionStyleModel",
          "state": {
            "_model_module": "@jupyter-widgets/controls",
            "_model_module_version": "1.5.0",
            "_model_name": "DescriptionStyleModel",
            "_view_count": null,
            "_view_module": "@jupyter-widgets/base",
            "_view_module_version": "1.2.0",
            "_view_name": "StyleView",
            "description_width": ""
          }
        },
        "1506bc4162bb467db311b17a06602626": {
          "model_module": "@jupyter-widgets/base",
          "model_module_version": "1.2.0",
          "model_name": "LayoutModel",
          "state": {
            "_model_module": "@jupyter-widgets/base",
            "_model_module_version": "1.2.0",
            "_model_name": "LayoutModel",
            "_view_count": null,
            "_view_module": "@jupyter-widgets/base",
            "_view_module_version": "1.2.0",
            "_view_name": "LayoutView",
            "align_content": null,
            "align_items": null,
            "align_self": null,
            "border": null,
            "bottom": null,
            "display": null,
            "flex": null,
            "flex_flow": null,
            "grid_area": null,
            "grid_auto_columns": null,
            "grid_auto_flow": null,
            "grid_auto_rows": null,
            "grid_column": null,
            "grid_gap": null,
            "grid_row": null,
            "grid_template_areas": null,
            "grid_template_columns": null,
            "grid_template_rows": null,
            "height": null,
            "justify_content": null,
            "justify_items": null,
            "left": null,
            "margin": null,
            "max_height": null,
            "max_width": null,
            "min_height": null,
            "min_width": null,
            "object_fit": null,
            "object_position": null,
            "order": null,
            "overflow": null,
            "overflow_x": null,
            "overflow_y": null,
            "padding": null,
            "right": null,
            "top": null,
            "visibility": null,
            "width": null
          }
        },
        "2232f2659edd4ab1a3b296a53b966fbf": {
          "model_module": "@jupyter-widgets/controls",
          "model_module_version": "1.5.0",
          "model_name": "ProgressStyleModel",
          "state": {
            "_model_module": "@jupyter-widgets/controls",
            "_model_module_version": "1.5.0",
            "_model_name": "ProgressStyleModel",
            "_view_count": null,
            "_view_module": "@jupyter-widgets/base",
            "_view_module_version": "1.2.0",
            "_view_name": "StyleView",
            "bar_color": null,
            "description_width": ""
          }
        },
        "270d65cc485c416c95e59f7eb0a5b619": {
          "model_module": "@jupyter-widgets/controls",
          "model_module_version": "1.5.0",
          "model_name": "DescriptionStyleModel",
          "state": {
            "_model_module": "@jupyter-widgets/controls",
            "_model_module_version": "1.5.0",
            "_model_name": "DescriptionStyleModel",
            "_view_count": null,
            "_view_module": "@jupyter-widgets/base",
            "_view_module_version": "1.2.0",
            "_view_name": "StyleView",
            "description_width": ""
          }
        },
        "28b49c9957ed4c5a8c0cf13ab0ed4cda": {
          "model_module": "@jupyter-widgets/controls",
          "model_module_version": "1.5.0",
          "model_name": "HTMLModel",
          "state": {
            "_dom_classes": [],
            "_model_module": "@jupyter-widgets/controls",
            "_model_module_version": "1.5.0",
            "_model_name": "HTMLModel",
            "_view_count": null,
            "_view_module": "@jupyter-widgets/controls",
            "_view_module_version": "1.5.0",
            "_view_name": "HTMLView",
            "description": "",
            "description_tooltip": null,
            "layout": "IPY_MODEL_96897dd308a4437ebda60c23a5374058",
            "placeholder": "​",
            "style": "IPY_MODEL_619dac610c314cea86913ebc39cf8eb6",
            "value": " 482/482 [00:00&lt;00:00, 12.4kB/s]"
          }
        },
        "28dd8dbf7bb641418fb65872ae0deba9": {
          "model_module": "@jupyter-widgets/base",
          "model_module_version": "1.2.0",
          "model_name": "LayoutModel",
          "state": {
            "_model_module": "@jupyter-widgets/base",
            "_model_module_version": "1.2.0",
            "_model_name": "LayoutModel",
            "_view_count": null,
            "_view_module": "@jupyter-widgets/base",
            "_view_module_version": "1.2.0",
            "_view_name": "LayoutView",
            "align_content": null,
            "align_items": null,
            "align_self": null,
            "border": null,
            "bottom": null,
            "display": null,
            "flex": null,
            "flex_flow": null,
            "grid_area": null,
            "grid_auto_columns": null,
            "grid_auto_flow": null,
            "grid_auto_rows": null,
            "grid_column": null,
            "grid_gap": null,
            "grid_row": null,
            "grid_template_areas": null,
            "grid_template_columns": null,
            "grid_template_rows": null,
            "height": null,
            "justify_content": null,
            "justify_items": null,
            "left": null,
            "margin": null,
            "max_height": null,
            "max_width": null,
            "min_height": null,
            "min_width": null,
            "object_fit": null,
            "object_position": null,
            "order": null,
            "overflow": null,
            "overflow_x": null,
            "overflow_y": null,
            "padding": null,
            "right": null,
            "top": null,
            "visibility": null,
            "width": null
          }
        },
        "2e0b27d568c44b8085b0727c389ca405": {
          "model_module": "@jupyter-widgets/base",
          "model_module_version": "1.2.0",
          "model_name": "LayoutModel",
          "state": {
            "_model_module": "@jupyter-widgets/base",
            "_model_module_version": "1.2.0",
            "_model_name": "LayoutModel",
            "_view_count": null,
            "_view_module": "@jupyter-widgets/base",
            "_view_module_version": "1.2.0",
            "_view_name": "LayoutView",
            "align_content": null,
            "align_items": null,
            "align_self": null,
            "border": null,
            "bottom": null,
            "display": null,
            "flex": null,
            "flex_flow": null,
            "grid_area": null,
            "grid_auto_columns": null,
            "grid_auto_flow": null,
            "grid_auto_rows": null,
            "grid_column": null,
            "grid_gap": null,
            "grid_row": null,
            "grid_template_areas": null,
            "grid_template_columns": null,
            "grid_template_rows": null,
            "height": null,
            "justify_content": null,
            "justify_items": null,
            "left": null,
            "margin": null,
            "max_height": null,
            "max_width": null,
            "min_height": null,
            "min_width": null,
            "object_fit": null,
            "object_position": null,
            "order": null,
            "overflow": null,
            "overflow_x": null,
            "overflow_y": null,
            "padding": null,
            "right": null,
            "top": null,
            "visibility": null,
            "width": null
          }
        },
        "32f7fccd42ac4e48bb91dcc339f04cb8": {
          "model_module": "@jupyter-widgets/controls",
          "model_module_version": "1.5.0",
          "model_name": "FloatProgressModel",
          "state": {
            "_dom_classes": [],
            "_model_module": "@jupyter-widgets/controls",
            "_model_module_version": "1.5.0",
            "_model_name": "FloatProgressModel",
            "_view_count": null,
            "_view_module": "@jupyter-widgets/controls",
            "_view_module_version": "1.5.0",
            "_view_name": "ProgressView",
            "bar_style": "success",
            "description": "",
            "description_tooltip": null,
            "layout": "IPY_MODEL_54498a9954d8453ea89c11d9bac5a977",
            "max": 1421700479,
            "min": 0,
            "orientation": "horizontal",
            "style": "IPY_MODEL_2232f2659edd4ab1a3b296a53b966fbf",
            "value": 1421700479
          }
        },
        "346e434c76d54deebf384494ad334d97": {
          "model_module": "@jupyter-widgets/controls",
          "model_module_version": "1.5.0",
          "model_name": "DescriptionStyleModel",
          "state": {
            "_model_module": "@jupyter-widgets/controls",
            "_model_module_version": "1.5.0",
            "_model_name": "DescriptionStyleModel",
            "_view_count": null,
            "_view_module": "@jupyter-widgets/base",
            "_view_module_version": "1.2.0",
            "_view_name": "StyleView",
            "description_width": ""
          }
        },
        "369d6c7adbec46a3baa1b9644c8877a4": {
          "model_module": "@jupyter-widgets/controls",
          "model_module_version": "1.5.0",
          "model_name": "HBoxModel",
          "state": {
            "_dom_classes": [],
            "_model_module": "@jupyter-widgets/controls",
            "_model_module_version": "1.5.0",
            "_model_name": "HBoxModel",
            "_view_count": null,
            "_view_module": "@jupyter-widgets/controls",
            "_view_module_version": "1.5.0",
            "_view_name": "HBoxView",
            "box_style": "",
            "children": [
              "IPY_MODEL_40397b9ae82b4295aed38d7d2a3937c1",
              "IPY_MODEL_115fa217ef91400aab011bc8735f708d",
              "IPY_MODEL_c59ba8e0224e4ce593474a449fe69947"
            ],
            "layout": "IPY_MODEL_caa6115d5062408385355980a3ab97c7"
          }
        },
        "37e77f89000740e7b2178d27fa1c60a5": {
          "model_module": "@jupyter-widgets/base",
          "model_module_version": "1.2.0",
          "model_name": "LayoutModel",
          "state": {
            "_model_module": "@jupyter-widgets/base",
            "_model_module_version": "1.2.0",
            "_model_name": "LayoutModel",
            "_view_count": null,
            "_view_module": "@jupyter-widgets/base",
            "_view_module_version": "1.2.0",
            "_view_name": "LayoutView",
            "align_content": null,
            "align_items": null,
            "align_self": null,
            "border": null,
            "bottom": null,
            "display": null,
            "flex": null,
            "flex_flow": null,
            "grid_area": null,
            "grid_auto_columns": null,
            "grid_auto_flow": null,
            "grid_auto_rows": null,
            "grid_column": null,
            "grid_gap": null,
            "grid_row": null,
            "grid_template_areas": null,
            "grid_template_columns": null,
            "grid_template_rows": null,
            "height": null,
            "justify_content": null,
            "justify_items": null,
            "left": null,
            "margin": null,
            "max_height": null,
            "max_width": null,
            "min_height": null,
            "min_width": null,
            "object_fit": null,
            "object_position": null,
            "order": null,
            "overflow": null,
            "overflow_x": null,
            "overflow_y": null,
            "padding": null,
            "right": null,
            "top": null,
            "visibility": null,
            "width": null
          }
        },
        "3899e6e6b261441794e3d4fdf37e6387": {
          "model_module": "@jupyter-widgets/base",
          "model_module_version": "1.2.0",
          "model_name": "LayoutModel",
          "state": {
            "_model_module": "@jupyter-widgets/base",
            "_model_module_version": "1.2.0",
            "_model_name": "LayoutModel",
            "_view_count": null,
            "_view_module": "@jupyter-widgets/base",
            "_view_module_version": "1.2.0",
            "_view_name": "LayoutView",
            "align_content": null,
            "align_items": null,
            "align_self": null,
            "border": null,
            "bottom": null,
            "display": null,
            "flex": null,
            "flex_flow": null,
            "grid_area": null,
            "grid_auto_columns": null,
            "grid_auto_flow": null,
            "grid_auto_rows": null,
            "grid_column": null,
            "grid_gap": null,
            "grid_row": null,
            "grid_template_areas": null,
            "grid_template_columns": null,
            "grid_template_rows": null,
            "height": null,
            "justify_content": null,
            "justify_items": null,
            "left": null,
            "margin": null,
            "max_height": null,
            "max_width": null,
            "min_height": null,
            "min_width": null,
            "object_fit": null,
            "object_position": null,
            "order": null,
            "overflow": null,
            "overflow_x": null,
            "overflow_y": null,
            "padding": null,
            "right": null,
            "top": null,
            "visibility": null,
            "width": null
          }
        },
        "3cd047dec14b4b3eb910ab12125fe429": {
          "model_module": "@jupyter-widgets/base",
          "model_module_version": "1.2.0",
          "model_name": "LayoutModel",
          "state": {
            "_model_module": "@jupyter-widgets/base",
            "_model_module_version": "1.2.0",
            "_model_name": "LayoutModel",
            "_view_count": null,
            "_view_module": "@jupyter-widgets/base",
            "_view_module_version": "1.2.0",
            "_view_name": "LayoutView",
            "align_content": null,
            "align_items": null,
            "align_self": null,
            "border": null,
            "bottom": null,
            "display": null,
            "flex": null,
            "flex_flow": null,
            "grid_area": null,
            "grid_auto_columns": null,
            "grid_auto_flow": null,
            "grid_auto_rows": null,
            "grid_column": null,
            "grid_gap": null,
            "grid_row": null,
            "grid_template_areas": null,
            "grid_template_columns": null,
            "grid_template_rows": null,
            "height": null,
            "justify_content": null,
            "justify_items": null,
            "left": null,
            "margin": null,
            "max_height": null,
            "max_width": null,
            "min_height": null,
            "min_width": null,
            "object_fit": null,
            "object_position": null,
            "order": null,
            "overflow": null,
            "overflow_x": null,
            "overflow_y": null,
            "padding": null,
            "right": null,
            "top": null,
            "visibility": null,
            "width": null
          }
        },
        "3de31db267734e47bd9f1aa69e54bd18": {
          "model_module": "@jupyter-widgets/controls",
          "model_module_version": "1.5.0",
          "model_name": "HTMLModel",
          "state": {
            "_dom_classes": [],
            "_model_module": "@jupyter-widgets/controls",
            "_model_module_version": "1.5.0",
            "_model_name": "HTMLModel",
            "_view_count": null,
            "_view_module": "@jupyter-widgets/controls",
            "_view_module_version": "1.5.0",
            "_view_name": "HTMLView",
            "description": "",
            "description_tooltip": null,
            "layout": "IPY_MODEL_a9547cf0a55149f790a6b6c9abda57ed",
            "placeholder": "​",
            "style": "IPY_MODEL_81d925dfa0214031a129fd7de2d9f9de",
            "value": " 899k/899k [00:00&lt;00:00, 6.13MB/s]"
          }
        },
        "40397b9ae82b4295aed38d7d2a3937c1": {
          "model_module": "@jupyter-widgets/controls",
          "model_module_version": "1.5.0",
          "model_name": "HTMLModel",
          "state": {
            "_dom_classes": [],
            "_model_module": "@jupyter-widgets/controls",
            "_model_module_version": "1.5.0",
            "_model_name": "HTMLModel",
            "_view_count": null,
            "_view_module": "@jupyter-widgets/controls",
            "_view_module_version": "1.5.0",
            "_view_name": "HTMLView",
            "description": "",
            "description_tooltip": null,
            "layout": "IPY_MODEL_51e54606acd0441cbedb2689318580a1",
            "placeholder": "​",
            "style": "IPY_MODEL_270d65cc485c416c95e59f7eb0a5b619",
            "value": "Downloading (…)olve/main/merges.txt: 100%"
          }
        },
        "43aeba30764b4b64bde093da247d9111": {
          "model_module": "@jupyter-widgets/base",
          "model_module_version": "1.2.0",
          "model_name": "LayoutModel",
          "state": {
            "_model_module": "@jupyter-widgets/base",
            "_model_module_version": "1.2.0",
            "_model_name": "LayoutModel",
            "_view_count": null,
            "_view_module": "@jupyter-widgets/base",
            "_view_module_version": "1.2.0",
            "_view_name": "LayoutView",
            "align_content": null,
            "align_items": null,
            "align_self": null,
            "border": null,
            "bottom": null,
            "display": null,
            "flex": null,
            "flex_flow": null,
            "grid_area": null,
            "grid_auto_columns": null,
            "grid_auto_flow": null,
            "grid_auto_rows": null,
            "grid_column": null,
            "grid_gap": null,
            "grid_row": null,
            "grid_template_areas": null,
            "grid_template_columns": null,
            "grid_template_rows": null,
            "height": null,
            "justify_content": null,
            "justify_items": null,
            "left": null,
            "margin": null,
            "max_height": null,
            "max_width": null,
            "min_height": null,
            "min_width": null,
            "object_fit": null,
            "object_position": null,
            "order": null,
            "overflow": null,
            "overflow_x": null,
            "overflow_y": null,
            "padding": null,
            "right": null,
            "top": null,
            "visibility": null,
            "width": null
          }
        },
        "4ba9a08294f24f9fb748dd3c9e33f418": {
          "model_module": "@jupyter-widgets/controls",
          "model_module_version": "1.5.0",
          "model_name": "DescriptionStyleModel",
          "state": {
            "_model_module": "@jupyter-widgets/controls",
            "_model_module_version": "1.5.0",
            "_model_name": "DescriptionStyleModel",
            "_view_count": null,
            "_view_module": "@jupyter-widgets/base",
            "_view_module_version": "1.2.0",
            "_view_name": "StyleView",
            "description_width": ""
          }
        },
        "4f3021e924a342eca2ca0f755ae77c24": {
          "model_module": "@jupyter-widgets/controls",
          "model_module_version": "1.5.0",
          "model_name": "ProgressStyleModel",
          "state": {
            "_model_module": "@jupyter-widgets/controls",
            "_model_module_version": "1.5.0",
            "_model_name": "ProgressStyleModel",
            "_view_count": null,
            "_view_module": "@jupyter-widgets/base",
            "_view_module_version": "1.2.0",
            "_view_name": "StyleView",
            "bar_color": null,
            "description_width": ""
          }
        },
        "51e54606acd0441cbedb2689318580a1": {
          "model_module": "@jupyter-widgets/base",
          "model_module_version": "1.2.0",
          "model_name": "LayoutModel",
          "state": {
            "_model_module": "@jupyter-widgets/base",
            "_model_module_version": "1.2.0",
            "_model_name": "LayoutModel",
            "_view_count": null,
            "_view_module": "@jupyter-widgets/base",
            "_view_module_version": "1.2.0",
            "_view_name": "LayoutView",
            "align_content": null,
            "align_items": null,
            "align_self": null,
            "border": null,
            "bottom": null,
            "display": null,
            "flex": null,
            "flex_flow": null,
            "grid_area": null,
            "grid_auto_columns": null,
            "grid_auto_flow": null,
            "grid_auto_rows": null,
            "grid_column": null,
            "grid_gap": null,
            "grid_row": null,
            "grid_template_areas": null,
            "grid_template_columns": null,
            "grid_template_rows": null,
            "height": null,
            "justify_content": null,
            "justify_items": null,
            "left": null,
            "margin": null,
            "max_height": null,
            "max_width": null,
            "min_height": null,
            "min_width": null,
            "object_fit": null,
            "object_position": null,
            "order": null,
            "overflow": null,
            "overflow_x": null,
            "overflow_y": null,
            "padding": null,
            "right": null,
            "top": null,
            "visibility": null,
            "width": null
          }
        },
        "54498a9954d8453ea89c11d9bac5a977": {
          "model_module": "@jupyter-widgets/base",
          "model_module_version": "1.2.0",
          "model_name": "LayoutModel",
          "state": {
            "_model_module": "@jupyter-widgets/base",
            "_model_module_version": "1.2.0",
            "_model_name": "LayoutModel",
            "_view_count": null,
            "_view_module": "@jupyter-widgets/base",
            "_view_module_version": "1.2.0",
            "_view_name": "LayoutView",
            "align_content": null,
            "align_items": null,
            "align_self": null,
            "border": null,
            "bottom": null,
            "display": null,
            "flex": null,
            "flex_flow": null,
            "grid_area": null,
            "grid_auto_columns": null,
            "grid_auto_flow": null,
            "grid_auto_rows": null,
            "grid_column": null,
            "grid_gap": null,
            "grid_row": null,
            "grid_template_areas": null,
            "grid_template_columns": null,
            "grid_template_rows": null,
            "height": null,
            "justify_content": null,
            "justify_items": null,
            "left": null,
            "margin": null,
            "max_height": null,
            "max_width": null,
            "min_height": null,
            "min_width": null,
            "object_fit": null,
            "object_position": null,
            "order": null,
            "overflow": null,
            "overflow_x": null,
            "overflow_y": null,
            "padding": null,
            "right": null,
            "top": null,
            "visibility": null,
            "width": null
          }
        },
        "5c2438b0bc8e4374956bc1b1e7691ee9": {
          "model_module": "@jupyter-widgets/controls",
          "model_module_version": "1.5.0",
          "model_name": "HTMLModel",
          "state": {
            "_dom_classes": [],
            "_model_module": "@jupyter-widgets/controls",
            "_model_module_version": "1.5.0",
            "_model_name": "HTMLModel",
            "_view_count": null,
            "_view_module": "@jupyter-widgets/controls",
            "_view_module_version": "1.5.0",
            "_view_name": "HTMLView",
            "description": "",
            "description_tooltip": null,
            "layout": "IPY_MODEL_3899e6e6b261441794e3d4fdf37e6387",
            "placeholder": "​",
            "style": "IPY_MODEL_346e434c76d54deebf384494ad334d97",
            "value": "Downloading (…)olve/main/vocab.json: 100%"
          }
        },
        "619dac610c314cea86913ebc39cf8eb6": {
          "model_module": "@jupyter-widgets/controls",
          "model_module_version": "1.5.0",
          "model_name": "DescriptionStyleModel",
          "state": {
            "_model_module": "@jupyter-widgets/controls",
            "_model_module_version": "1.5.0",
            "_model_name": "DescriptionStyleModel",
            "_view_count": null,
            "_view_module": "@jupyter-widgets/base",
            "_view_module_version": "1.2.0",
            "_view_name": "StyleView",
            "description_width": ""
          }
        },
        "783d4d71eee34421991875a5cb80f7ed": {
          "model_module": "@jupyter-widgets/controls",
          "model_module_version": "1.5.0",
          "model_name": "FloatProgressModel",
          "state": {
            "_dom_classes": [],
            "_model_module": "@jupyter-widgets/controls",
            "_model_module_version": "1.5.0",
            "_model_name": "FloatProgressModel",
            "_view_count": null,
            "_view_module": "@jupyter-widgets/controls",
            "_view_module_version": "1.5.0",
            "_view_name": "ProgressView",
            "bar_style": "success",
            "description": "",
            "description_tooltip": null,
            "layout": "IPY_MODEL_43aeba30764b4b64bde093da247d9111",
            "max": 482,
            "min": 0,
            "orientation": "horizontal",
            "style": "IPY_MODEL_cb803fddea8549efbd74349474350592",
            "value": 482
          }
        },
        "797757e4d7214319950bb1a6a015f778": {
          "model_module": "@jupyter-widgets/controls",
          "model_module_version": "1.5.0",
          "model_name": "DescriptionStyleModel",
          "state": {
            "_model_module": "@jupyter-widgets/controls",
            "_model_module_version": "1.5.0",
            "_model_name": "DescriptionStyleModel",
            "_view_count": null,
            "_view_module": "@jupyter-widgets/base",
            "_view_module_version": "1.2.0",
            "_view_name": "StyleView",
            "description_width": ""
          }
        },
        "81d925dfa0214031a129fd7de2d9f9de": {
          "model_module": "@jupyter-widgets/controls",
          "model_module_version": "1.5.0",
          "model_name": "DescriptionStyleModel",
          "state": {
            "_model_module": "@jupyter-widgets/controls",
            "_model_module_version": "1.5.0",
            "_model_name": "DescriptionStyleModel",
            "_view_count": null,
            "_view_module": "@jupyter-widgets/base",
            "_view_module_version": "1.2.0",
            "_view_name": "StyleView",
            "description_width": ""
          }
        },
        "8cd4b65b56a84d07a6af275d71bb97fd": {
          "model_module": "@jupyter-widgets/controls",
          "model_module_version": "1.5.0",
          "model_name": "HBoxModel",
          "state": {
            "_dom_classes": [],
            "_model_module": "@jupyter-widgets/controls",
            "_model_module_version": "1.5.0",
            "_model_name": "HBoxModel",
            "_view_count": null,
            "_view_module": "@jupyter-widgets/controls",
            "_view_module_version": "1.5.0",
            "_view_name": "HBoxView",
            "box_style": "",
            "children": [
              "IPY_MODEL_5c2438b0bc8e4374956bc1b1e7691ee9",
              "IPY_MODEL_f6507be2b1d544e7a1149d2f4e8eae62",
              "IPY_MODEL_3de31db267734e47bd9f1aa69e54bd18"
            ],
            "layout": "IPY_MODEL_1506bc4162bb467db311b17a06602626"
          }
        },
        "96897dd308a4437ebda60c23a5374058": {
          "model_module": "@jupyter-widgets/base",
          "model_module_version": "1.2.0",
          "model_name": "LayoutModel",
          "state": {
            "_model_module": "@jupyter-widgets/base",
            "_model_module_version": "1.2.0",
            "_model_name": "LayoutModel",
            "_view_count": null,
            "_view_module": "@jupyter-widgets/base",
            "_view_module_version": "1.2.0",
            "_view_name": "LayoutView",
            "align_content": null,
            "align_items": null,
            "align_self": null,
            "border": null,
            "bottom": null,
            "display": null,
            "flex": null,
            "flex_flow": null,
            "grid_area": null,
            "grid_auto_columns": null,
            "grid_auto_flow": null,
            "grid_auto_rows": null,
            "grid_column": null,
            "grid_gap": null,
            "grid_row": null,
            "grid_template_areas": null,
            "grid_template_columns": null,
            "grid_template_rows": null,
            "height": null,
            "justify_content": null,
            "justify_items": null,
            "left": null,
            "margin": null,
            "max_height": null,
            "max_width": null,
            "min_height": null,
            "min_width": null,
            "object_fit": null,
            "object_position": null,
            "order": null,
            "overflow": null,
            "overflow_x": null,
            "overflow_y": null,
            "padding": null,
            "right": null,
            "top": null,
            "visibility": null,
            "width": null
          }
        },
        "a575e254d03f4a409332c52310976e34": {
          "model_module": "@jupyter-widgets/controls",
          "model_module_version": "1.5.0",
          "model_name": "HTMLModel",
          "state": {
            "_dom_classes": [],
            "_model_module": "@jupyter-widgets/controls",
            "_model_module_version": "1.5.0",
            "_model_name": "HTMLModel",
            "_view_count": null,
            "_view_module": "@jupyter-widgets/controls",
            "_view_module_version": "1.5.0",
            "_view_name": "HTMLView",
            "description": "",
            "description_tooltip": null,
            "layout": "IPY_MODEL_d19ad5597cc246f5abe64970e03c9b17",
            "placeholder": "​",
            "style": "IPY_MODEL_c4180bdc651c420abf7685b096694061",
            "value": "Downloading model.safetensors: 100%"
          }
        },
        "a9547cf0a55149f790a6b6c9abda57ed": {
          "model_module": "@jupyter-widgets/base",
          "model_module_version": "1.2.0",
          "model_name": "LayoutModel",
          "state": {
            "_model_module": "@jupyter-widgets/base",
            "_model_module_version": "1.2.0",
            "_model_name": "LayoutModel",
            "_view_count": null,
            "_view_module": "@jupyter-widgets/base",
            "_view_module_version": "1.2.0",
            "_view_name": "LayoutView",
            "align_content": null,
            "align_items": null,
            "align_self": null,
            "border": null,
            "bottom": null,
            "display": null,
            "flex": null,
            "flex_flow": null,
            "grid_area": null,
            "grid_auto_columns": null,
            "grid_auto_flow": null,
            "grid_auto_rows": null,
            "grid_column": null,
            "grid_gap": null,
            "grid_row": null,
            "grid_template_areas": null,
            "grid_template_columns": null,
            "grid_template_rows": null,
            "height": null,
            "justify_content": null,
            "justify_items": null,
            "left": null,
            "margin": null,
            "max_height": null,
            "max_width": null,
            "min_height": null,
            "min_width": null,
            "object_fit": null,
            "object_position": null,
            "order": null,
            "overflow": null,
            "overflow_x": null,
            "overflow_y": null,
            "padding": null,
            "right": null,
            "top": null,
            "visibility": null,
            "width": null
          }
        },
        "ab63f415fa9f4385bb35b6f55896911f": {
          "model_module": "@jupyter-widgets/controls",
          "model_module_version": "1.5.0",
          "model_name": "ProgressStyleModel",
          "state": {
            "_model_module": "@jupyter-widgets/controls",
            "_model_module_version": "1.5.0",
            "_model_name": "ProgressStyleModel",
            "_view_count": null,
            "_view_module": "@jupyter-widgets/base",
            "_view_module_version": "1.2.0",
            "_view_name": "StyleView",
            "bar_color": null,
            "description_width": ""
          }
        },
        "bedea72f0d744e4d8d18e529d5d3d2c1": {
          "model_module": "@jupyter-widgets/controls",
          "model_module_version": "1.5.0",
          "model_name": "HBoxModel",
          "state": {
            "_dom_classes": [],
            "_model_module": "@jupyter-widgets/controls",
            "_model_module_version": "1.5.0",
            "_model_name": "HBoxModel",
            "_view_count": null,
            "_view_module": "@jupyter-widgets/controls",
            "_view_module_version": "1.5.0",
            "_view_name": "HBoxView",
            "box_style": "",
            "children": [
              "IPY_MODEL_0e42cda5b0764e8eb7f18b23792ec5a7",
              "IPY_MODEL_783d4d71eee34421991875a5cb80f7ed",
              "IPY_MODEL_28b49c9957ed4c5a8c0cf13ab0ed4cda"
            ],
            "layout": "IPY_MODEL_d4c34fd8345a4e1e9f1337ca632036f9"
          }
        },
        "c4180bdc651c420abf7685b096694061": {
          "model_module": "@jupyter-widgets/controls",
          "model_module_version": "1.5.0",
          "model_name": "DescriptionStyleModel",
          "state": {
            "_model_module": "@jupyter-widgets/controls",
            "_model_module_version": "1.5.0",
            "_model_name": "DescriptionStyleModel",
            "_view_count": null,
            "_view_module": "@jupyter-widgets/base",
            "_view_module_version": "1.2.0",
            "_view_name": "StyleView",
            "description_width": ""
          }
        },
        "c59ba8e0224e4ce593474a449fe69947": {
          "model_module": "@jupyter-widgets/controls",
          "model_module_version": "1.5.0",
          "model_name": "HTMLModel",
          "state": {
            "_dom_classes": [],
            "_model_module": "@jupyter-widgets/controls",
            "_model_module_version": "1.5.0",
            "_model_name": "HTMLModel",
            "_view_count": null,
            "_view_module": "@jupyter-widgets/controls",
            "_view_module_version": "1.5.0",
            "_view_name": "HTMLView",
            "description": "",
            "description_tooltip": null,
            "layout": "IPY_MODEL_28dd8dbf7bb641418fb65872ae0deba9",
            "placeholder": "​",
            "style": "IPY_MODEL_4ba9a08294f24f9fb748dd3c9e33f418",
            "value": " 456k/456k [00:00&lt;00:00, 8.81MB/s]"
          }
        },
        "c5e9ff53d56744eabfe5a2588eced433": {
          "model_module": "@jupyter-widgets/controls",
          "model_module_version": "1.5.0",
          "model_name": "HBoxModel",
          "state": {
            "_dom_classes": [],
            "_model_module": "@jupyter-widgets/controls",
            "_model_module_version": "1.5.0",
            "_model_name": "HBoxModel",
            "_view_count": null,
            "_view_module": "@jupyter-widgets/controls",
            "_view_module_version": "1.5.0",
            "_view_name": "HBoxView",
            "box_style": "",
            "children": [
              "IPY_MODEL_a575e254d03f4a409332c52310976e34",
              "IPY_MODEL_32f7fccd42ac4e48bb91dcc339f04cb8",
              "IPY_MODEL_cabc81c2387a4894aaa65f2f7b60a6c7"
            ],
            "layout": "IPY_MODEL_3cd047dec14b4b3eb910ab12125fe429"
          }
        },
        "caa6115d5062408385355980a3ab97c7": {
          "model_module": "@jupyter-widgets/base",
          "model_module_version": "1.2.0",
          "model_name": "LayoutModel",
          "state": {
            "_model_module": "@jupyter-widgets/base",
            "_model_module_version": "1.2.0",
            "_model_name": "LayoutModel",
            "_view_count": null,
            "_view_module": "@jupyter-widgets/base",
            "_view_module_version": "1.2.0",
            "_view_name": "LayoutView",
            "align_content": null,
            "align_items": null,
            "align_self": null,
            "border": null,
            "bottom": null,
            "display": null,
            "flex": null,
            "flex_flow": null,
            "grid_area": null,
            "grid_auto_columns": null,
            "grid_auto_flow": null,
            "grid_auto_rows": null,
            "grid_column": null,
            "grid_gap": null,
            "grid_row": null,
            "grid_template_areas": null,
            "grid_template_columns": null,
            "grid_template_rows": null,
            "height": null,
            "justify_content": null,
            "justify_items": null,
            "left": null,
            "margin": null,
            "max_height": null,
            "max_width": null,
            "min_height": null,
            "min_width": null,
            "object_fit": null,
            "object_position": null,
            "order": null,
            "overflow": null,
            "overflow_x": null,
            "overflow_y": null,
            "padding": null,
            "right": null,
            "top": null,
            "visibility": null,
            "width": null
          }
        },
        "cabc81c2387a4894aaa65f2f7b60a6c7": {
          "model_module": "@jupyter-widgets/controls",
          "model_module_version": "1.5.0",
          "model_name": "HTMLModel",
          "state": {
            "_dom_classes": [],
            "_model_module": "@jupyter-widgets/controls",
            "_model_module_version": "1.5.0",
            "_model_name": "HTMLModel",
            "_view_count": null,
            "_view_module": "@jupyter-widgets/controls",
            "_view_module_version": "1.5.0",
            "_view_name": "HTMLView",
            "description": "",
            "description_tooltip": null,
            "layout": "IPY_MODEL_f1996a8bde854a2b8b815f948bb84f8d",
            "placeholder": "​",
            "style": "IPY_MODEL_797757e4d7214319950bb1a6a015f778",
            "value": " 1.42G/1.42G [00:14&lt;00:00, 121MB/s]"
          }
        },
        "cb803fddea8549efbd74349474350592": {
          "model_module": "@jupyter-widgets/controls",
          "model_module_version": "1.5.0",
          "model_name": "ProgressStyleModel",
          "state": {
            "_model_module": "@jupyter-widgets/controls",
            "_model_module_version": "1.5.0",
            "_model_name": "ProgressStyleModel",
            "_view_count": null,
            "_view_module": "@jupyter-widgets/base",
            "_view_module_version": "1.2.0",
            "_view_name": "StyleView",
            "bar_color": null,
            "description_width": ""
          }
        },
        "d19ad5597cc246f5abe64970e03c9b17": {
          "model_module": "@jupyter-widgets/base",
          "model_module_version": "1.2.0",
          "model_name": "LayoutModel",
          "state": {
            "_model_module": "@jupyter-widgets/base",
            "_model_module_version": "1.2.0",
            "_model_name": "LayoutModel",
            "_view_count": null,
            "_view_module": "@jupyter-widgets/base",
            "_view_module_version": "1.2.0",
            "_view_name": "LayoutView",
            "align_content": null,
            "align_items": null,
            "align_self": null,
            "border": null,
            "bottom": null,
            "display": null,
            "flex": null,
            "flex_flow": null,
            "grid_area": null,
            "grid_auto_columns": null,
            "grid_auto_flow": null,
            "grid_auto_rows": null,
            "grid_column": null,
            "grid_gap": null,
            "grid_row": null,
            "grid_template_areas": null,
            "grid_template_columns": null,
            "grid_template_rows": null,
            "height": null,
            "justify_content": null,
            "justify_items": null,
            "left": null,
            "margin": null,
            "max_height": null,
            "max_width": null,
            "min_height": null,
            "min_width": null,
            "object_fit": null,
            "object_position": null,
            "order": null,
            "overflow": null,
            "overflow_x": null,
            "overflow_y": null,
            "padding": null,
            "right": null,
            "top": null,
            "visibility": null,
            "width": null
          }
        },
        "d4c34fd8345a4e1e9f1337ca632036f9": {
          "model_module": "@jupyter-widgets/base",
          "model_module_version": "1.2.0",
          "model_name": "LayoutModel",
          "state": {
            "_model_module": "@jupyter-widgets/base",
            "_model_module_version": "1.2.0",
            "_model_name": "LayoutModel",
            "_view_count": null,
            "_view_module": "@jupyter-widgets/base",
            "_view_module_version": "1.2.0",
            "_view_name": "LayoutView",
            "align_content": null,
            "align_items": null,
            "align_self": null,
            "border": null,
            "bottom": null,
            "display": null,
            "flex": null,
            "flex_flow": null,
            "grid_area": null,
            "grid_auto_columns": null,
            "grid_auto_flow": null,
            "grid_auto_rows": null,
            "grid_column": null,
            "grid_gap": null,
            "grid_row": null,
            "grid_template_areas": null,
            "grid_template_columns": null,
            "grid_template_rows": null,
            "height": null,
            "justify_content": null,
            "justify_items": null,
            "left": null,
            "margin": null,
            "max_height": null,
            "max_width": null,
            "min_height": null,
            "min_width": null,
            "object_fit": null,
            "object_position": null,
            "order": null,
            "overflow": null,
            "overflow_x": null,
            "overflow_y": null,
            "padding": null,
            "right": null,
            "top": null,
            "visibility": null,
            "width": null
          }
        },
        "f1996a8bde854a2b8b815f948bb84f8d": {
          "model_module": "@jupyter-widgets/base",
          "model_module_version": "1.2.0",
          "model_name": "LayoutModel",
          "state": {
            "_model_module": "@jupyter-widgets/base",
            "_model_module_version": "1.2.0",
            "_model_name": "LayoutModel",
            "_view_count": null,
            "_view_module": "@jupyter-widgets/base",
            "_view_module_version": "1.2.0",
            "_view_name": "LayoutView",
            "align_content": null,
            "align_items": null,
            "align_self": null,
            "border": null,
            "bottom": null,
            "display": null,
            "flex": null,
            "flex_flow": null,
            "grid_area": null,
            "grid_auto_columns": null,
            "grid_auto_flow": null,
            "grid_auto_rows": null,
            "grid_column": null,
            "grid_gap": null,
            "grid_row": null,
            "grid_template_areas": null,
            "grid_template_columns": null,
            "grid_template_rows": null,
            "height": null,
            "justify_content": null,
            "justify_items": null,
            "left": null,
            "margin": null,
            "max_height": null,
            "max_width": null,
            "min_height": null,
            "min_width": null,
            "object_fit": null,
            "object_position": null,
            "order": null,
            "overflow": null,
            "overflow_x": null,
            "overflow_y": null,
            "padding": null,
            "right": null,
            "top": null,
            "visibility": null,
            "width": null
          }
        },
        "f6507be2b1d544e7a1149d2f4e8eae62": {
          "model_module": "@jupyter-widgets/controls",
          "model_module_version": "1.5.0",
          "model_name": "FloatProgressModel",
          "state": {
            "_dom_classes": [],
            "_model_module": "@jupyter-widgets/controls",
            "_model_module_version": "1.5.0",
            "_model_name": "FloatProgressModel",
            "_view_count": null,
            "_view_module": "@jupyter-widgets/controls",
            "_view_module_version": "1.5.0",
            "_view_name": "ProgressView",
            "bar_style": "success",
            "description": "",
            "description_tooltip": null,
            "layout": "IPY_MODEL_ff180e6b94af4c518c261cc27eedbc6d",
            "max": 898823,
            "min": 0,
            "orientation": "horizontal",
            "style": "IPY_MODEL_4f3021e924a342eca2ca0f755ae77c24",
            "value": 898823
          }
        },
        "ff180e6b94af4c518c261cc27eedbc6d": {
          "model_module": "@jupyter-widgets/base",
          "model_module_version": "1.2.0",
          "model_name": "LayoutModel",
          "state": {
            "_model_module": "@jupyter-widgets/base",
            "_model_module_version": "1.2.0",
            "_model_name": "LayoutModel",
            "_view_count": null,
            "_view_module": "@jupyter-widgets/base",
            "_view_module_version": "1.2.0",
            "_view_name": "LayoutView",
            "align_content": null,
            "align_items": null,
            "align_self": null,
            "border": null,
            "bottom": null,
            "display": null,
            "flex": null,
            "flex_flow": null,
            "grid_area": null,
            "grid_auto_columns": null,
            "grid_auto_flow": null,
            "grid_auto_rows": null,
            "grid_column": null,
            "grid_gap": null,
            "grid_row": null,
            "grid_template_areas": null,
            "grid_template_columns": null,
            "grid_template_rows": null,
            "height": null,
            "justify_content": null,
            "justify_items": null,
            "left": null,
            "margin": null,
            "max_height": null,
            "max_width": null,
            "min_height": null,
            "min_width": null,
            "object_fit": null,
            "object_position": null,
            "order": null,
            "overflow": null,
            "overflow_x": null,
            "overflow_y": null,
            "padding": null,
            "right": null,
            "top": null,
            "visibility": null,
            "width": null
          }
        }
      }
    }
  },
  "nbformat": 4,
  "nbformat_minor": 5
}
