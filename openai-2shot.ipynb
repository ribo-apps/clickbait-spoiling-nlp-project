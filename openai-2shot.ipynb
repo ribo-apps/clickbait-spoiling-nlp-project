{
 "cells": [
  {
   "cell_type": "code",
   "execution_count": 3,
   "metadata": {},
   "outputs": [],
   "source": [
    "from datasets import load_dataset"
   ]
  },
  {
   "cell_type": "code",
   "execution_count": 33,
   "metadata": {},
   "outputs": [],
   "source": [
    "def concat(x, validation=False):\n",
    "    concated = \"\"\n",
    "    for k, v in x.items():\n",
    "        if k in [\"spoiler\", \"provenance\", \"spoilerPositions\"]:\n",
    "            continue\n",
    "        concated += k + \": \" + str(v) + \"\\n\"\n",
    "    if not validation:\n",
    "        concated += \"spoiler\" + \": \" + x[\"spoiler\"] + \"\\n\"\n",
    "    else:\n",
    "        concated += \"spoiler\" + \": \"\n",
    "    return concated.replace(\"???\", \"\")"
   ]
  },
  {
   "cell_type": "code",
   "execution_count": 9,
   "metadata": {},
   "outputs": [
    {
     "name": "stderr",
     "output_type": "stream",
     "text": [
      "Found cached dataset json (/Users/eren/.cache/huggingface/datasets/json/default-c63e742358a6e02d/0.0.0/e347ab1c932092252e717ff3f949105a4dd28b27e842dd53157d2f72e276c2e4)\n",
      "Loading cached processed dataset at /Users/eren/.cache/huggingface/datasets/json/default-c63e742358a6e02d/0.0.0/e347ab1c932092252e717ff3f949105a4dd28b27e842dd53157d2f72e276c2e4/cache-48ebbcd949ba8f47.arrow\n"
     ]
    }
   ],
   "source": [
    "train_data_path = \"train_changed.json\"\n",
    "train_data = load_dataset(\"json\", data_files=train_data_path, split=\"train\")\n",
    "train_data = train_data.map(lambda x: {\"text\": concat(x)})"
   ]
  },
  {
   "cell_type": "code",
   "execution_count": 24,
   "metadata": {},
   "outputs": [
    {
     "data": {
      "text/plain": [
       "'postText: #TeenMom2 star @PBandJenelley_1 reveals the sex of her second child through social media\\npostPlatform: Twitter\\ntargetParagraphs: \"Teen Mom 2\" star Jenelle Evans took to Twitter and Instagram Monday (Feb. 3) to announce that she and boyfriend Nathan Griffin are expecting a baby boy. Evans has faced criticism for the pregnancy, largely because she does not currently have custody of her first child, 4-year-old Jace. In the Season 5 premiere of \"Teen Mom 2,\" Evans had an abortion, which led to even more speculation about whether or not she is ready to have a second child. The reality TV star has a long history battling drug addiction, and has been arrested several times. Evans told In Touch that she had the abortion at the beginning of Season 5 because she was too \"skinny and unhealthy\" to continue with the unexpected pregnancy while in recovery for heroin addiction. Evans is legally married to Courtland Rogers, though the couple is separated. The father of her first son, Jace, is ex-boyfriend Andrew Lewis.\\ntargetTitle: \\'Teen Mom 2\\' Star Jenelle Evans Reveals Sex Of Her Second Child\\ntargetDescription: \"Teen Mom 2\" star Jenelle Evans took to Twitter and\\ntargetKeywords: jenelle evans teen mom,jenelle evans,jenelle evans teen mom 2,jenelle evans pregnant,TV Canada,jenelle evans baby boy,teen mom 2,jenelle evans nathan griffith\\ntags: [\\'phrase\\']\\nspoiler: boy\\n'"
      ]
     },
     "execution_count": 24,
     "metadata": {},
     "output_type": "execute_result"
    }
   ],
   "source": [
    "train_data[\"text\"][10]"
   ]
  },
  {
   "cell_type": "code",
   "execution_count": 34,
   "metadata": {},
   "outputs": [
    {
     "name": "stderr",
     "output_type": "stream",
     "text": [
      "Found cached dataset json (/Users/eren/.cache/huggingface/datasets/json/default-6efd8ac4534909a1/0.0.0/e347ab1c932092252e717ff3f949105a4dd28b27e842dd53157d2f72e276c2e4)\n"
     ]
    },
    {
     "data": {
      "application/vnd.jupyter.widget-view+json": {
       "model_id": "393652b0fd354866a9be7232111c7dde",
       "version_major": 2,
       "version_minor": 0
      },
      "text/plain": [
       "Map:   0%|          | 0/800 [00:00<?, ? examples/s]"
      ]
     },
     "metadata": {},
     "output_type": "display_data"
    }
   ],
   "source": [
    "validation_data_path = \"validation_changed.json\"\n",
    "validation_data = load_dataset(\"json\", data_files=validation_data_path, split=\"train\")\n",
    "validation_data = validation_data.map(lambda x: {\"text\": concat(x, validation=True)})"
   ]
  },
  {
   "cell_type": "code",
   "execution_count": 35,
   "metadata": {},
   "outputs": [
    {
     "data": {
      "text/plain": [
       "'postText: Five Nights at Freddy’s Sequel Delayed for Weird Reason\\npostPlatform: Facebook\\ntargetParagraphs: Five Nights at Freddy’s creator Scott Cawthon takes to Steam to tease a possible delay for Five Nights at Freddy’s: Sister Location, the fifth game in the series. For the past couple of years, horror gaming fans have been able to look forward to one new entry in the Five Nights at Freddy’s series after another, with four core games, one RPG spinoff, and a novel released so far. The next game in the franchise, Five Nights at Freddy’s: Sister Location, was scheduled to release this coming Friday, October 7th, but if developer Scott Cawthon is to be believed, the project has been delayed by a few months. According to a post by Cawthon on the Five Nights at Freddy’s: Sister Location Steam page, the game is being delayed because it’s too dark. Cawthon said that some of the plot elements are so disturbing that they are making him feel sick, and so he is thinking about delaying the game so that he can rework it entirely \"into something kid-friendly.\" Delays happen in the gaming industry all the time, but it’s rare for a game to be delayed mere days before its release. Five Nights at Freddy’s fans are confused and angry about this latest development, as many were looking forward to playing the game on Friday. Something else upsetting fans is Cawthon’s reasoning that the game is too dark to release, as being dark and disturbing are two characteristics that many consumers look for in a horror game. Cawthon’s reason for suddenly delaying Five Nights at Freddy’s Sister Location from its planned October 7th release date doesn’t make much sense. A more likely scenario is that this is just a weird publicity stunt meant to hype the game as being so disturbing that its developer almost didn’t even release it. Alternatively, perhaps Cawthon is delaying the game for technical reasons and decided to concoct this story instead of admitting that the fifth core game in the series has issues. Fans should also consider the possibility that Cawthon is just trolling in an attempt to throw them off the scent of an early release. Cawthon has a habit of surprising fans by releasing Five Nights at Freddy’s games early, and it wouldn’t be all that shocking for Five Nights at Freddy’s: Sister Location to carry on that tradition, despite Cawthon’s post to the contrary. With October 7th just a few days away, fans will learn soon enough whether or not Cawthon is serious about Sister Location‘s delay. If the game is delayed, it will be interesting to see if Cawthon actually does rework it to be more \"kid-friendly,\" or if he goes with a slightly altered version of his original vision. Five Nights at Freddy’s: Sister Location is scheduled to launch on October 7th for PC as well as iOS and Android mobile devices. Source: Scott Cawthon\\ntargetTitle: Five Nights at Freddy’s Sequel Delayed for Weird Reason\\ntargetDescription: Five Nights at Freddy\\'s creator Scott Cawthon takes to Steam to tease a possible delay for Five Nights at Freddy\\'s: Sister Location, the fifth game in the series.\\ntargetKeywords: None\\ntags: [\\'passage\\']\\nspoiler: '"
      ]
     },
     "execution_count": 35,
     "metadata": {},
     "output_type": "execute_result"
    }
   ],
   "source": [
    "validation_data[\"text\"][0]"
   ]
  },
  {
   "cell_type": "code",
   "execution_count": 15,
   "metadata": {},
   "outputs": [],
   "source": [
    "import openai"
   ]
  },
  {
   "cell_type": "code",
   "execution_count": 18,
   "metadata": {},
   "outputs": [],
   "source": [
    "openai.api_key = \"\" #Removed"
   ]
  },
  {
   "cell_type": "code",
   "execution_count": 54,
   "metadata": {},
   "outputs": [],
   "source": [
    "from tqdm import tqdm\n",
    "import time\n",
    "import json"
   ]
  },
  {
   "cell_type": "code",
   "execution_count": 40,
   "metadata": {},
   "outputs": [],
   "source": [
    "results = {}"
   ]
  },
  {
   "cell_type": "code",
   "execution_count": 65,
   "metadata": {},
   "outputs": [],
   "source": [
    "time.sleep(60)"
   ]
  },
  {
   "cell_type": "code",
   "execution_count": 66,
   "metadata": {},
   "outputs": [
    {
     "name": "stderr",
     "output_type": "stream",
     "text": [
      "72it [29:21, 24.47s/it]\n"
     ]
    }
   ],
   "source": [
    "c = 3\n",
    "id = 0\n",
    "for i, text in tqdm(enumerate(validation_data[\"text\"][id:])):\n",
    "    idx = id + i\n",
    "    spoiler = validation_data[\"spoiler\"][idx]\n",
    "\n",
    "    prompt = \"Input 1:\\n\"\n",
    "    prompt += \"{\\n\" + train_data[\"text\"][6] + \"}\\n\\n\"\n",
    "    prompt += \"Input 2:\\n\"\n",
    "    prompt += \"{\\n\" + train_data[\"text\"][10] + \"}\\n\\n\"\n",
    "    prompt += \"Input 3:\\n\"\n",
    "    prompt += \"{\\n\" + text\n",
    "\n",
    "    chat_completion = openai.ChatCompletion.create(model=\"gpt-3.5-turbo\", \n",
    "                                               messages=[{\"role\": \"user\", \n",
    "                                                          \"content\": prompt}])\n",
    "    results[idx] = {}\n",
    "    results[idx][\"gpt\"] = chat_completion\n",
    "    results[idx][\"real_spoiler\"] = spoiler\n",
    "    c -= 1\n",
    "    if c <= 0:# Due to request rate limit per seconds\n",
    "        c = 3\n",
    "        time.sleep(60)\n",
    "    else:\n",
    "        time.sleep(2)"
   ]
  },
  {
   "cell_type": "code",
   "execution_count": 69,
   "metadata": {},
   "outputs": [],
   "source": [
    "file_path = \"gpt-3.5-turbo-eval.json\"\n",
    "with open(file_path, \"w\") as json_file:\n",
    "    json.dump(results, json_file, indent=4)"
   ]
  },
  {
   "cell_type": "code",
   "execution_count": null,
   "metadata": {},
   "outputs": [],
   "source": []
  },
  {
   "cell_type": "code",
   "execution_count": 70,
   "metadata": {},
   "outputs": [],
   "source": [
    "with open(file_path, \"r\") as json_file:\n",
    "    data = json.load(json_file)"
   ]
  }
 ],
 "metadata": {
  "kernelspec": {
   "display_name": "comp442",
   "language": "python",
   "name": "python3"
  },
  "language_info": {
   "codemirror_mode": {
    "name": "ipython",
    "version": 3
   },
   "file_extension": ".py",
   "mimetype": "text/x-python",
   "name": "python",
   "nbconvert_exporter": "python",
   "pygments_lexer": "ipython3",
   "version": "3.9.13"
  },
  "orig_nbformat": 4
 },
 "nbformat": 4,
 "nbformat_minor": 2
}
